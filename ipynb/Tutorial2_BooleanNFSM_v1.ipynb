{
 "cells": [
  {
   "cell_type": "markdown",
   "id": "02ab7b60-5c8e-4a08-a6e6-062f6753a9ea",
   "metadata": {},
   "source": [
    "# Tutorial #2: Creating Network Finite State Machines from a Boolean Gene Regulatory Network Model \n",
    "\n",
    "Welcome to the second tutorial demonstrating how to utilize the Regulatory Network Machine framework with Gene Regulatory Network models, as outlined in our \n",
    "paper, [Harnessing the Analogue Computing Power of Regulatory Networks with the Regulatory Network Machine](https://osf.io/preprints/osf/tb5ys_v1).\n",
    "\n",
    "Here we demonstrate how to create Network Finite State Machines (NFSMs) from a Boolean, logic-based Gene Regulatory Network (GRN) model. Here we use the [MAPK Cancer Cell Fate Network](https://research.cellcollective.org/dashboard#module/7984:1/mapk-cancer-cell-fate-network/1) created by [Grieco et. al - 2017](https://journals.plos.org/ploscompbiol/article?id=10.1371/journal.pcbi.1003286), sourced from the [Cell Collective](https://cellcollective.org/) database. This example GRN model is quite valuable, as it enables work with NFSMs in a cancer renormalization strategy. In the Boolean model, the expression state (as True = 1 or False = 0) of each node was prescribed by logic equations, which represent the activation or inhibition interactions of the expression of one node upon the expression of another. \n",
    "\n",
    "Here we specifically run-through the following steps to arrive at NFSMs:\n",
    "1. We show how to load the GRN from the Cellnition network library, where the [MAPK_net](https://github.com/betsee/cellnition/blob/46601f3294d9f14cc87d25aa12ed09215fec6114/cellnition/science/network_models/network_library.py#L2277) is loaded from the Cellnition network library into a [BooleanNet](https://github.com/betsee/cellnition/blob/46601f3294d9f14cc87d25aa12ed09215fec6114/cellnition/science/network_models/boolean_networks.py#L25) class and the network is built using the [build_network_from_edges method](https://github.com/betsee/cellnition/blob/46601f3294d9f14cc87d25aa12ed09215fec6114/cellnition/science/network_models/network_abc.py#L89) of the BooleanNet. We characterize the network, determining cycles, node input and output degree, node hierarchical level (see [Moutsinas et. al - 2021](https://www.nature.com/articles/s41598-021-93161-4)), etc, using the [characterize_graph](https://github.com/betsee/cellnition/blob/46601f3294d9f14cc87d25aa12ed09215fec6114/cellnition/science/network_models/network_abc.py#L214) method of BooleanNet), and generate visualizations for the GRN as a network diagram using [plot_network](https://github.com/betsee/cellnition/blob/46601f3294d9f14cc87d25aa12ed09215fec6114/cellnition/science/networks_toolbox/netplot.py#L8). We note that other networks can be loaded from the Cellnition [network library](https://github.com/betsee/cellnition/blob/46601f3294d9f14cc87d25aa12ed09215fec6114/cellnition/science/network_models/network_library.py#L1) that readily work with the BooleanNet solver. We also note that nodes of the network have been automatically categorized as inputs, outputs, and internal nodes when the 'characterize_graph' method is utilized. \n",
    "2. We show how to use the loaded GRN to automatically construct an analytical Boolean model consisting of logical expressions describing node expressions using the [build_boolean_model](https://github.com/betsee/cellnition/blob/46601f3294d9f14cc87d25aa12ed09215fec6114/cellnition/science/network_models/boolean_networks.py#L111) method of BooleanNet. We show how to visualize and export these equations for use in publications and reports using the [save_model_equations](https://github.com/betsee/cellnition/blob/46601f3294d9f14cc87d25aa12ed09215fec6114/cellnition/science/network_models/boolean_networks.py#L754) method of BooleanNet.\n",
    "3. We next instantiate the [BoolStateMachine](https://github.com/betsee/cellnition/blob/46601f3294d9f14cc87d25aa12ed09215fec6114/cellnition/science/networks_toolbox/boolean_state_machine.py#L26) class, and use the Boolean model of the GRN with the [BoolStateMachine](https://github.com/betsee/cellnition/blob/eceb030c3359fa891943a550603bd20bbd551bba/cellnition/science/networks_toolbox/boolean_state_machine.py#L26) object to search for equilibrium states of the GRN system for each member of the set of possible input states using the [steady_state_solutions_search](https://github.com/betsee/cellnition/blob/46601f3294d9f14cc87d25aa12ed09215fec6114/cellnition/science/networks_toolbox/boolean_state_machine.py#L166) method of [BoolStateMachine](https://github.com/betsee/cellnition/blob/eceb030c3359fa891943a550603bd20bbd551bba/cellnition/science/networks_toolbox/boolean_state_machine.py#L26). These equilibrium states are automatically subjected to a characterization to determine their dynamic quality (e.g. as a point attractor, metastable saddle, or continuously oscilating limit cycle, etc, see the code in the [net_state_compute](https://github.com/betsee/cellnition/blob/46601f3294d9f14cc87d25aa12ed09215fec6114/cellnition/science/network_models/boolean_networks.py#L342) method of BooleanNet for details). Finally, we show how to write export a visualization of the matrix of unique equilibrium states using the [plot_sols_array](https://github.com/betsee/cellnition/blob/46601f3294d9f14cc87d25aa12ed09215fec6114/cellnition/science/network_models/network_abc.py#L652) method of BooleanNet.\n",
    "4. We show how to run the state-machine construction routine, [create_transition_network](https://github.com/betsee/cellnition/blob/46601f3294d9f14cc87d25aa12ed09215fec6114/cellnition/science/networks_toolbox/boolean_state_machine.py#L258) of [BoolStateMachine](https://github.com/betsee/cellnition/blob/eceb030c3359fa891943a550603bd20bbd551bba/cellnition/science/networks_toolbox/boolean_state_machine.py#L26), to build both of the NFSM types for the Boolean GRN model.\n",
    "5. We define output states representing the idealized cases of cell outcomes such as \"cancer\", \"senecence\" or \"normal\" status, and use these idealized output vectors to compare how far the detected eq'm states of the system are to the idealized output (e.g. by calculating the Euclidean distance between an eq'm state of the GRN and the idealized cancer state vector. We next show how to save the NFSM graphs, and to use the [plot_state_transition_network](https://github.com/betsee/cellnition/blob/46601f3294d9f14cc87d25aa12ed09215fec6114/cellnition/science/networks_toolbox/boolean_state_machine.py#L490) method of [BoolStateMachine](https://github.com/betsee/cellnition/blob/eceb030c3359fa891943a550603bd20bbd551bba/cellnition/science/networks_toolbox/boolean_state_machine.py#L26) to plot the 'general' NFSM (G-NFSM) and the [plot_state_perturbation_network](https://github.com/betsee/cellnition/blob/46601f3294d9f14cc87d25aa12ed09215fec6114/cellnition/science/networks_toolbox/boolean_state_machine.py#L490) method of [BoolStateMachine](https://github.com/betsee/cellnition/blob/eceb030c3359fa891943a550603bd20bbd551bba/cellnition/science/networks_toolbox/boolean_state_machine.py#L26) to plot the event-driven NFSM (E-NFSM).\n",
    "6. Finally, we show how to test the results of the NFSMs by running pseudo-time-based simulations (sequence simulations on the Boolean model) where a particular sequence of applied inputs is used to drive the system through the NFSM, where stable states are automatically detected and matched by the Cellnition program. We do this using the [sim_sequence_trajectory](https://github.com/betsee/cellnition/blob/f850bf33e5ae8b18332faad373ec5cd299ec1b6c/cellnition/science/networks_toolbox/boolean_state_machine.py#L652) method of BoolStateMachine. We show how the BoolStateMachine method [plot_sequence_trajectory](https://github.com/betsee/cellnition/blob/f850bf33e5ae8b18332faad373ec5cd299ec1b6c/cellnition/science/networks_toolbox/boolean_state_machine.py#L695) can be used to visualize the results of the pseudo-temporal simulation.   "
   ]
  },
  {
   "cell_type": "code",
   "execution_count": 1,
   "id": "052e0c0f-2474-4784-96d1-8689f68cf2f1",
   "metadata": {
    "tags": []
   },
   "outputs": [],
   "source": [
    "import os\n",
    "import csv\n",
    "import copy\n",
    "import numpy as np\n",
    "import matplotlib.pyplot as plt \n",
    "from matplotlib import cm\n",
    "from matplotlib import colors\n",
    "from matplotlib import colormaps\n",
    "import networkx as nx\n",
    "\n",
    "from cellnition.science.network_models.network_enums import (EdgeType, \n",
    "                                                             GraphType, \n",
    "                                                             NodeType, \n",
    "                                                             InterFuncType, \n",
    "                                                             CouplingType, \n",
    "                                                             EquilibriumType\n",
    "                                                            )\n",
    "# from cellnition.science.network_workflow import NetworkWorkflow\n",
    "from cellnition.science.networks_toolbox.netplot import plot_network\n",
    "\n",
    "from cellnition.science.network_models.network_library import MAPK_net\n",
    "\n",
    "from cellnition.science.network_models.boolean_networks import BooleanNet\n",
    "from cellnition.science.networks_toolbox.boolean_state_machine import BoolStateMachine"
   ]
  },
  {
   "cell_type": "markdown",
   "id": "e725e0c6-8fc8-4f63-9eb2-5f241e0f2ccb",
   "metadata": {},
   "source": [
    "### Step 1: Loading and ploting the GRN network\n",
    "\n",
    "We show how to load the GRN from the Cellnition network library, where the [MAPK_net](https://github.com/betsee/cellnition/blob/46601f3294d9f14cc87d25aa12ed09215fec6114/cellnition/science/network_models/network_library.py#L2277) is loaded from the Cellnition network library into a [BooleanNet](https://github.com/betsee/cellnition/blob/46601f3294d9f14cc87d25aa12ed09215fec6114/cellnition/science/network_models/boolean_networks.py#L25) class and the network is built using the [build_network_from_edges method](https://github.com/betsee/cellnition/blob/46601f3294d9f14cc87d25aa12ed09215fec6114/cellnition/science/network_models/network_abc.py#L89) of the [BooleanNet](https://github.com/betsee/cellnition/blob/eceb030c3359fa891943a550603bd20bbd551bba/cellnition/science/network_models/boolean_networks.py#L25). We characterize the network, determining cycles, node input and output degree, node hierarchical level (see [Moutsinas et. al - 2021](https://www.nature.com/articles/s41598-021-93161-4)), etc, using the [characterize_graph](https://github.com/betsee/cellnition/blob/46601f3294d9f14cc87d25aa12ed09215fec6114/cellnition/science/network_models/network_abc.py#L214) method of [BooleanNet](https://github.com/betsee/cellnition/blob/eceb030c3359fa891943a550603bd20bbd551bba/cellnition/science/network_models/boolean_networks.py#L25)), and generate visualizations for the GRN as a network diagram using [plot_network](https://github.com/betsee/cellnition/blob/46601f3294d9f14cc87d25aa12ed09215fec6114/cellnition/science/networks_toolbox/netplot.py#L8). We note that other networks can be loaded from the Cellnition [network library](https://github.com/betsee/cellnition/blob/46601f3294d9f14cc87d25aa12ed09215fec6114/cellnition/science/network_models/network_library.py#L1) that readily work with the [BooleanNet](https://github.com/betsee/cellnition/blob/eceb030c3359fa891943a550603bd20bbd551bba/cellnition/science/network_models/boolean_networks.py#L25) solver. We also note that nodes of the network have been automatically categorized as inputs, outputs, and internal nodes when the [characterize_graph](https://github.com/betsee/cellnition/blob/eceb030c3359fa891943a550603bd20bbd551bba/cellnition/science/network_models/network_abc.py#L214) method is utilized. "
   ]
  },
  {
   "cell_type": "code",
   "execution_count": 2,
   "id": "4364eba3-c97b-4cbb-abf2-65925991b3a3",
   "metadata": {
    "tags": []
   },
   "outputs": [],
   "source": [
    "# Save path for images and graphs:\n",
    "save_path_base = '/home/pietakio/Documents/CellnitionSims/Boolean' # YOUR CUSTOM ROOT DIRECTORY HERE! \n",
    "save_path_oo = os.path.join(save_path_base, 'March21_2025')\n",
    "if not os.path.isdir(save_path_oo):\n",
    "    os.makedirs(save_path_oo)"
   ]
  },
  {
   "cell_type": "code",
   "execution_count": 3,
   "id": "e9d74bf8-99f1-448e-ab54-076120f231ac",
   "metadata": {
    "tags": []
   },
   "outputs": [],
   "source": [
    "# load the network base from the Cellnition library:\n",
    "libg = MAPK_net()\n",
    "\n",
    "# Specify how to combine multiple nodes interacting together:\n",
    "multi_coupling_type = CouplingType.mix1 # activators combine as \"OR\" and inhibitors \"AND\"\n",
    "# multi_coupling_type = CouplingType.additive # everything \"OR\"\n",
    "# multi_coupling_type = CouplingType.multiplicative # everything \"AND\"\n",
    "# multi_coupling_type = CouplingType.mix2  # activators combine \"AND\" and inhibitors \"OR\"\n",
    "\n",
    "constitutive_express = False # activators present \"AND\" inhibitors absent for expression, when \"False\"\n",
    "\n",
    "# NOTE: Mix1 is the default combinatory strategy. CouplingType.mix1 combines multiple activators in an \"OR\" fashion (additive) and \n",
    "# multiple inhibitors in an \"AND\" fashion (multiplicative). This combinatory strategy specifies that individual activators have \n",
    "# equal influence on the downstream gene activation, whereas all inhibitors must be absent for gene activaton and the pressense of\n",
    "# a single inhibitor can cease all downstream gene expression of the downstream node. \n",
    "\n",
    "# Furthermore, in the Boolean model, constitutive_express = False combines the set of all activators and the set of all inhibitors \n",
    "# in a multiplicative \"AND\" fashion, which states: the effect of activators must\n",
    "# be present AND all inhibitors must be absent for gene expression at the downstream node. This has the exception that if a node only has\n",
    "# inhibitors acting on it, it is assumed to have constitutive expression, such that only the absense of the inhibitors is required for \n",
    "# expression. These conventions are considered the standard heuristic in Boolean network models (see Schwab et al. - 2020)."
   ]
  },
  {
   "cell_type": "code",
   "execution_count": 4,
   "id": "ea76fdf1-ebda-4efd-baa2-1369bee6d202",
   "metadata": {
    "tags": []
   },
   "outputs": [],
   "source": [
    "bnet = BooleanNet() # Instantiate the Boolean GRN network solver\n",
    "bnet.build_network_from_edges(libg.edges) # Build the basic graph/network from the imported MAPK_net library network \n",
    "bnet.characterize_graph() # Characterize the graph and set key parameters\n",
    "bnet.set_node_types() # Set the node types to a default value\n",
    "\n",
    "bnet.set_edge_types(libg.edge_types) # set the edge types to those defined in the MAPK_net network"
   ]
  },
  {
   "cell_type": "code",
   "execution_count": 5,
   "id": "beee80ed-24b1-4bad-8d2f-fcb5516c7f17",
   "metadata": {
    "tags": []
   },
   "outputs": [],
   "source": [
    "# Use the above-specified options to define a final sub-directory for the results:\n",
    "save_path_o = os.path.join(save_path_oo, f'_{multi_coupling_type.name[0:4]}')\n",
    "if not os.path.isdir(save_path_o):\n",
    "    os.makedirs(save_path_o)\n",
    "\n",
    "# Final save directory is for the individual network that is being studied: \n",
    "save_path = os.path.join(save_path_o, f'{libg.name}' )\n",
    "if not os.path.isdir(save_path):\n",
    "    os.makedirs(save_path)\n",
    "\n",
    "# Set some easily-modifiable text parameters for plots: \n",
    "SMALL_SIZE = 14\n",
    "MEDIUM_SIZE = 14\n",
    "BIGGER_SIZE = 16\n",
    "\n",
    "plt.rc('font', size=SMALL_SIZE)          # controls default text sizes\n",
    "plt.rc('axes', titlesize=SMALL_SIZE)     # fontsize of the axes title\n",
    "plt.rc('axes', labelsize=MEDIUM_SIZE)    # fontsize of the x and y labels\n",
    "plt.rc('xtick', labelsize=SMALL_SIZE)    # fontsize of the tick labels\n",
    "plt.rc('ytick', labelsize=SMALL_SIZE)    # fontsize of the tick labels\n",
    "plt.rc('legend', fontsize=SMALL_SIZE)    # legend fontsize\n",
    "plt.rc('figure', titlesize=BIGGER_SIZE)  # fontsize of the figure title\n",
    "\n",
    "fimg = '.png' # Format for exported graph images. Can use '.png' for bitmap or '.svg' for vector graphics. "
   ]
  },
  {
   "cell_type": "code",
   "execution_count": 6,
   "id": "18279028-7686-4038-be00-6d28963ff326",
   "metadata": {
    "tags": []
   },
   "outputs": [],
   "source": [
    "# save plots of the GRN graph:\n",
    "# Shared parameters used on the following graph images:\n",
    "arrowsize = 2.0 # Size of the directed head of the graph edges (relative units) \n",
    "node_font_size = 24 # Size of the font used on node labels\n",
    "net_font_name =  'DejaVu Sans Bold' # name of font used on node labels\n",
    "edge_width = 2.0 # with of interaction edges\n",
    "nde_outline = 'Black' # colour of the node outline (if no outline is desired use \"None\")\n",
    "rev_font_color = False # Reverse the color of node text? It is black by default. \n",
    "label_edges=False # Label the edges with their index in the BooleanNet object (bnet)? \n",
    "\n",
    "# NOTE: label_edges=True is useful in inspection and validation of equations, as the \n",
    "# edge index is also the index of 'n_base' and 'bb' params, above (the 'dd' param is labeled to node index). \n",
    "\n",
    "# The network shown in a hierarchical layout with node color representing the \"hierarchical level\" of the node\n",
    "# as calculated in 'characterize_graph' and described in Moutsinas et. al - 2021: \n",
    "graph_net_hier = f'hier_graph_{libg.name}{fimg}' \n",
    "save_graph_net_hier = os.path.join(save_path, graph_net_hier)\n",
    "\n",
    "gp=plot_network(bnet.nodes_list,\n",
    "                bnet.edges_list,\n",
    "                bnet.node_types,\n",
    "                bnet.edge_types,\n",
    "                node_vals = bnet.hier_node_level, # color the nodes to their hierarchical level\n",
    "                val_cmap = 'viridis_r',\n",
    "                save_path=save_graph_net_hier,\n",
    "                layout='dot',\n",
    "                rev_font_color=rev_font_color,\n",
    "                label_edges=label_edges,\n",
    "                net_font_name=net_font_name,\n",
    "                node_font_size=node_font_size,\n",
    "                edge_width=edge_width,\n",
    "                nde_outline=nde_outline,\n",
    "                arrowsize=arrowsize\n",
    "                )\n",
    "\n",
    "# The network shown in a circular layout with nodes colored acording to whether they are present in cycles or not:\n",
    "graph_net_circ = f'circ_graph_{libg.name}{fimg}'\n",
    "save_graph_net_circo = os.path.join(save_path, graph_net_circ)   \n",
    "\n",
    "cycle_tags = np.zeros(bnet.N_nodes)\n",
    "cycle_tags[bnet.nodes_in_cycles] = 1.0\n",
    "\n",
    "gp=plot_network(bnet.nodes_list,\n",
    "                bnet.edges_list,\n",
    "                bnet.node_types,\n",
    "                bnet.edge_types,\n",
    "                node_vals = cycle_tags,\n",
    "                val_cmap = 'Blues',\n",
    "                save_path=save_graph_net_circo,\n",
    "                layout='circo',\n",
    "                rev_font_color=rev_font_color,\n",
    "                label_edges=label_edges,\n",
    "                net_font_name=net_font_name,\n",
    "                node_font_size=node_font_size,\n",
    "                edge_width=edge_width,\n",
    "                nde_outline=nde_outline,\n",
    "                arrowsize=arrowsize\n",
    "                )"
   ]
  },
  {
   "cell_type": "markdown",
   "id": "01266123-a118-485d-997b-d075547c9a4c",
   "metadata": {},
   "source": [
    "## Step 2: Create the analytic simulation model for the GRN network\n",
    "\n",
    "We show how to use the loaded GRN to automatically construct an analytical Boolean model consisting of logical expressions describing node expressions using the [build_boolean_model](https://github.com/betsee/cellnition/blob/46601f3294d9f14cc87d25aa12ed09215fec6114/cellnition/science/network_models/boolean_networks.py#L111) method of [BooleanNet](https://github.com/betsee/cellnition/blob/eceb030c3359fa891943a550603bd20bbd551bba/cellnition/science/network_models/boolean_networks.py#L25). We show how to visualize and export these equations for use in publications and reports using the [save_model_equations](https://github.com/betsee/cellnition/blob/46601f3294d9f14cc87d25aa12ed09215fec6114/cellnition/science/network_models/boolean_networks.py#L754) method of [BooleanNet](https://github.com/betsee/cellnition/blob/eceb030c3359fa891943a550603bd20bbd551bba/cellnition/science/network_models/boolean_networks.py#L25)."
   ]
  },
  {
   "cell_type": "code",
   "execution_count": 7,
   "id": "9e721807-1b9a-438b-839f-5107b8a65a0b",
   "metadata": {
    "tags": []
   },
   "outputs": [],
   "source": [
    "# Use the network/graph characteristics to build a Boolean network solver for the GRN:\n",
    "c_vect_s, A_bool_s, A_bool_f = bnet.build_boolean_model(use_node_name=True,\n",
    "                                                      multi_coupling_type=multi_coupling_type,\n",
    "                                                     constitutive_express=constitutive_express)"
   ]
  },
  {
   "cell_type": "code",
   "execution_count": 8,
   "id": "147c1cbc-4d51-4f57-ab0a-12d830b9dd97",
   "metadata": {
    "tags": []
   },
   "outputs": [
    {
     "data": {
      "text/latex": [
       "$\\displaystyle \\left[\\begin{matrix}AKT\\\\AP_{1}\\\\ATF_{2}\\\\ATM\\\\Apoptosis\\\\BCL_{2}\\\\CREB\\\\DNA_{damage}\\\\DUSP_{1}\\\\EGFR\\\\EGFR_{stimulus}\\\\ELK_{1}\\\\ERK\\\\FGFR_{3}\\\\FGFR_{3 stimulus}\\\\FOS\\\\FOXO_{3}\\\\FRS_{2}\\\\GAB_{1}\\\\GADD_{45}\\\\GRB_{2}\\\\Growth_{Arrest}\\\\JNK\\\\JUN\\\\MAP3K1_{3}\\\\MAX\\\\MDM_{2}\\\\MEK_{1 2}\\\\MSK\\\\MTK_{1}\\\\MYC\\\\PDK_{1}\\\\PI3K\\\\PKC\\\\PLCG\\\\PPP2CA\\\\PTEN\\\\Proliferation\\\\RAF\\\\RAS\\\\RSK\\\\SMAD\\\\SOS\\\\SPRY\\\\TAK_{1}\\\\TAOK\\\\TGFBR\\\\TGFBR_{stimulus}\\\\p_{14}\\\\p_{21}\\\\p_{38}\\\\p_{53}\\\\p_{70}\\end{matrix}\\right]$"
      ],
      "text/plain": [
       "Matrix([\n",
       "[           AKT],\n",
       "[           AP1],\n",
       "[          ATF2],\n",
       "[           ATM],\n",
       "[     Apoptosis],\n",
       "[          BCL2],\n",
       "[          CREB],\n",
       "[    DNA_damage],\n",
       "[         DUSP1],\n",
       "[          EGFR],\n",
       "[ EGFR_stimulus],\n",
       "[          ELK1],\n",
       "[           ERK],\n",
       "[         FGFR3],\n",
       "[FGFR3_stimulus],\n",
       "[           FOS],\n",
       "[         FOXO3],\n",
       "[          FRS2],\n",
       "[          GAB1],\n",
       "[        GADD45],\n",
       "[          GRB2],\n",
       "[ Growth_Arrest],\n",
       "[           JNK],\n",
       "[           JUN],\n",
       "[      MAP3K1_3],\n",
       "[           MAX],\n",
       "[          MDM2],\n",
       "[        MEK1_2],\n",
       "[           MSK],\n",
       "[          MTK1],\n",
       "[           MYC],\n",
       "[          PDK1],\n",
       "[          PI3K],\n",
       "[           PKC],\n",
       "[          PLCG],\n",
       "[        PPP2CA],\n",
       "[          PTEN],\n",
       "[ Proliferation],\n",
       "[           RAF],\n",
       "[           RAS],\n",
       "[           RSK],\n",
       "[          SMAD],\n",
       "[           SOS],\n",
       "[          SPRY],\n",
       "[          TAK1],\n",
       "[          TAOK],\n",
       "[         TGFBR],\n",
       "[TGFBR_stimulus],\n",
       "[           p14],\n",
       "[           p21],\n",
       "[           p38],\n",
       "[           p53],\n",
       "[           p70]])"
      ]
     },
     "execution_count": 8,
     "metadata": {},
     "output_type": "execute_result"
    }
   ],
   "source": [
    "# Inspect the gene variables list:\n",
    "c_vect_s"
   ]
  },
  {
   "cell_type": "code",
   "execution_count": 9,
   "id": "5a2cd6d8-a0db-495f-bcf1-fb8963e2deb4",
   "metadata": {
    "tags": []
   },
   "outputs": [
    {
     "data": {
      "text/latex": [
       "$\\displaystyle \\left[\\begin{matrix}PDK_{1} \\left(1 - PTEN\\right)\\\\\\frac{ATF_{2}}{3} + \\frac{FOS}{3} + \\frac{JUN}{3}\\\\\\frac{JNK}{2} + \\frac{p_{38}}{2}\\\\DNA_{damage}\\\\\\left(1 - BCL_{2}\\right) \\left(1 - ERK\\right) \\left(\\frac{FOXO_{3}}{2} + \\frac{p_{53}}{2}\\right)\\\\\\frac{AKT}{2} + \\frac{CREB}{2}\\\\MSK\\\\0\\\\CREB\\\\\\left(1 - GRB_{2}\\right) \\left(1 - PKC\\right) \\left(\\frac{EGFR_{stimulus}}{2} + \\frac{SPRY}{2}\\right)\\\\0\\\\\\frac{ERK}{3} + \\frac{JNK}{3} + \\frac{p_{38}}{3}\\\\MEK_{1 2}\\\\FGFR_{3 stimulus} \\left(1 - GRB_{2}\\right) \\left(1 - PKC\\right)\\\\0\\\\\\frac{CREB}{4} + \\frac{ELK_{1}}{4} + \\frac{ERK}{4} + \\frac{RSK}{4}\\\\JNK \\left(1 - AKT\\right)\\\\FGFR_{3} \\left(1 - GRB_{2}\\right) \\left(1 - SPRY\\right)\\\\\\frac{GRB_{2}}{2} + \\frac{PI3K}{2}\\\\\\frac{SMAD}{2} + \\frac{p_{53}}{2}\\\\\\frac{EGFR}{3} + \\frac{FRS_{2}}{3} + \\frac{TGFBR}{3}\\\\p_{21}\\\\\\left(1 - DUSP_{1}\\right) \\left(\\frac{MAP3K1_{3}}{4} + \\frac{MTK_{1}}{4} + \\frac{TAK_{1}}{4} + \\frac{TAOK}{4}\\right)\\\\JNK\\\\RAS\\\\p_{38}\\\\\\left(1 - p_{14}\\right) \\left(\\frac{AKT}{2} + \\frac{p_{53}}{2}\\right)\\\\\\left(1 - AP_{1}\\right) \\left(1 - PPP2CA\\right) \\left(\\frac{MAP3K1_{3}}{2} + \\frac{RAF}{2}\\right)\\\\\\frac{ERK}{2} + \\frac{p_{38}}{2}\\\\GADD_{45}\\\\\\frac{AKT}{3} + \\frac{MAX}{3} + \\frac{MSK}{3}\\\\PI3K\\\\\\frac{GAB_{1}}{3} + \\frac{RAS}{3} + \\frac{SOS}{3}\\\\PLCG\\\\\\frac{EGFR}{2} + \\frac{FGFR_{3}}{2}\\\\p_{38}\\\\p_{53}\\\\\\left(1 - p_{21}\\right) \\left(\\frac{MYC}{2} + \\frac{p_{70}}{2}\\right)\\\\\\left(1 - AKT\\right) \\left(1 - ERK\\right) \\left(\\frac{PKC}{2} + \\frac{RAS}{2}\\right)\\\\\\frac{PLCG}{2} + \\frac{SOS}{2}\\\\ERK\\\\TGFBR\\\\GRB_{2} \\left(1 - RSK\\right)\\\\ERK\\\\TGFBR\\\\ATM\\\\TGFBR_{stimulus}\\\\0\\\\MYC\\\\p_{53} \\left(1 - AKT\\right)\\\\\\left(1 - DUSP_{1}\\right) \\left(\\frac{MAP3K1_{3}}{4} + \\frac{MTK_{1}}{4} + \\frac{TAK_{1}}{4} + \\frac{TAOK}{4}\\right)\\\\\\left(1 - MDM_{2}\\right) \\left(\\frac{ATM}{2} + \\frac{p_{38}}{2}\\right)\\\\\\frac{ERK}{2} + \\frac{PDK_{1}}{2}\\end{matrix}\\right]$"
      ],
      "text/plain": [
       "Matrix([\n",
       "[                                    PDK1*(1 - PTEN)],\n",
       "[                             ATF2/3 + FOS/3 + JUN/3],\n",
       "[                                      JNK/2 + p38/2],\n",
       "[                                         DNA_damage],\n",
       "[             (1 - BCL2)*(1 - ERK)*(FOXO3/2 + p53/2)],\n",
       "[                                     AKT/2 + CREB/2],\n",
       "[                                                MSK],\n",
       "[                                                  0],\n",
       "[                                               CREB],\n",
       "[    (1 - GRB2)*(1 - PKC)*(EGFR_stimulus/2 + SPRY/2)],\n",
       "[                                                  0],\n",
       "[                              ERK/3 + JNK/3 + p38/3],\n",
       "[                                             MEK1_2],\n",
       "[                FGFR3_stimulus*(1 - GRB2)*(1 - PKC)],\n",
       "[                                                  0],\n",
       "[                    CREB/4 + ELK1/4 + ERK/4 + RSK/4],\n",
       "[                                      JNK*(1 - AKT)],\n",
       "[                        FGFR3*(1 - GRB2)*(1 - SPRY)],\n",
       "[                                    GRB2/2 + PI3K/2],\n",
       "[                                     SMAD/2 + p53/2],\n",
       "[                          EGFR/3 + FRS2/3 + TGFBR/3],\n",
       "[                                                p21],\n",
       "[(1 - DUSP1)*(MAP3K1_3/4 + MTK1/4 + TAK1/4 + TAOK/4)],\n",
       "[                                                JNK],\n",
       "[                                                RAS],\n",
       "[                                                p38],\n",
       "[                          (1 - p14)*(AKT/2 + p53/2)],\n",
       "[        (1 - AP1)*(1 - PPP2CA)*(MAP3K1_3/2 + RAF/2)],\n",
       "[                                      ERK/2 + p38/2],\n",
       "[                                             GADD45],\n",
       "[                              AKT/3 + MAX/3 + MSK/3],\n",
       "[                                               PI3K],\n",
       "[                             GAB1/3 + RAS/3 + SOS/3],\n",
       "[                                               PLCG],\n",
       "[                                   EGFR/2 + FGFR3/2],\n",
       "[                                                p38],\n",
       "[                                                p53],\n",
       "[                          (1 - p21)*(MYC/2 + p70/2)],\n",
       "[                (1 - AKT)*(1 - ERK)*(PKC/2 + RAS/2)],\n",
       "[                                     PLCG/2 + SOS/2],\n",
       "[                                                ERK],\n",
       "[                                              TGFBR],\n",
       "[                                     GRB2*(1 - RSK)],\n",
       "[                                                ERK],\n",
       "[                                              TGFBR],\n",
       "[                                                ATM],\n",
       "[                                     TGFBR_stimulus],\n",
       "[                                                  0],\n",
       "[                                                MYC],\n",
       "[                                      p53*(1 - AKT)],\n",
       "[(1 - DUSP1)*(MAP3K1_3/4 + MTK1/4 + TAK1/4 + TAOK/4)],\n",
       "[                         (1 - MDM2)*(ATM/2 + p38/2)],\n",
       "[                                     ERK/2 + PDK1/2]])"
      ]
     },
     "execution_count": 9,
     "metadata": {},
     "output_type": "execute_result"
    }
   ],
   "source": [
    "# Inspect the generative equations for this Boolean model:\n",
    "A_bool_s"
   ]
  },
  {
   "cell_type": "markdown",
   "id": "84132c4d-aa2d-4003-8eed-0117012ce03c",
   "metadata": {},
   "source": [
    "## Step #3: Generate State Machine Solver\n",
    "\n",
    "We next instantiate the [BoolStateMachine](https://github.com/betsee/cellnition/blob/46601f3294d9f14cc87d25aa12ed09215fec6114/cellnition/science/networks_toolbox/boolean_state_machine.py#L26) class, and use the Boolean model of the GRN with the [BoolStateMachine](https://github.com/betsee/cellnition/blob/eceb030c3359fa891943a550603bd20bbd551bba/cellnition/science/networks_toolbox/boolean_state_machine.py#L26) object to search for equilibrium states of the GRN system for each member of the set of possible input states using the [steady_state_solutions_search](https://github.com/betsee/cellnition/blob/46601f3294d9f14cc87d25aa12ed09215fec6114/cellnition/science/networks_toolbox/boolean_state_machine.py#L166) method of [BoolStateMachine](https://github.com/betsee/cellnition/blob/eceb030c3359fa891943a550603bd20bbd551bba/cellnition/science/networks_toolbox/boolean_state_machine.py#L26). These equilibrium states are automatically subjected to a characterization to determine their dynamic quality (e.g. as a point attractor, metastable saddle, or continuously oscilating limit cycle, etc, see the code in the [net_state_compute](https://github.com/betsee/cellnition/blob/46601f3294d9f14cc87d25aa12ed09215fec6114/cellnition/science/network_models/boolean_networks.py#L342) method of [BooleanNet](https://github.com/betsee/cellnition/blob/eceb030c3359fa891943a550603bd20bbd551bba/cellnition/science/network_models/boolean_networks.py#L25) for details). Finally, we show how to write export a visualization of the matrix of unique equilibrium states using the [plot_sols_array](https://github.com/betsee/cellnition/blob/46601f3294d9f14cc87d25aa12ed09215fec6114/cellnition/science/network_models/network_abc.py#L652) method of [BooleanNet](https://github.com/betsee/cellnition/blob/eceb030c3359fa891943a550603bd20bbd551bba/cellnition/science/network_models/boolean_networks.py#L25)."
   ]
  },
  {
   "cell_type": "code",
   "execution_count": null,
   "id": "5daa2390-da51-42a4-a8a3-351a4cf70e5f",
   "metadata": {
    "tags": []
   },
   "outputs": [],
   "source": [
    "# Create the Finite State Machine solver for this system using the StateMachine class.\n",
    "# NOTE: for the large MAPK_net model, this will take a few minutes to solve. \n",
    "bsm = BoolStateMachine(bnet)\n",
    "\n",
    "verbose = False # Do you wish to see output from the solvers? NOTE: for the MAPK_net this can be extensive...\n",
    "main_nodes_only = True  # Search only the main (internal) nodes of the network and exclude the output nodes (True)? \n",
    "node_num_max=12 # If doing search_main_nodes_only = True, choose only the top node_num_max number of nodes to define the state space? \n",
    "output_nodes_only = True # When determining unique solutions, consider only the output node values (True) or use all nodes (False)?\n",
    "n_max_steps = len(bnet.main_nodes)*2 # Specify the number of iterations that the Boolean GRN solver will use to find an eq'm state (recommend 2x node number). \n",
    "\n",
    "\n",
    "(solsM_all, \n",
    " charM_all, \n",
    " sols_list, \n",
    " states_dict, \n",
    " sig_test_set) = bsm.steady_state_solutions_search(verbose=verbose,\n",
    "                                      search_main_nodes_only=main_nodes_only,\n",
    "                                      n_max_steps=n_max_steps,\n",
    "                                      order_by_distance=False,\n",
    "                                      node_num_max=node_num_max,\n",
    "                                      output_nodes_only=output_nodes_only\n",
    "                                      )"
   ]
  },
  {
   "cell_type": "markdown",
   "id": "4200a92c-b6ae-4208-a1b7-ec4e95aa44c8",
   "metadata": {},
   "source": [
    "#### Understanding the outputs:\n",
    "- *solsM_all* : this is a numpy array with all unique equilibrium solutions stored as columns.\n",
    "- *charM_all* : the is the corresponding characterization of each equilibrium solution in solsM_all\n",
    "- *sols_list* : this is a list of all equilibrium solutions found (not generally used)\n",
    "- *states_dict* : this is a dictionary with keys equal to the input state vector, and a list of found eq'm states (columns of solsM_all). \n",
    "- *sig_test_set* : this is the complete set of input states that are utilized in the eq'm state searches. They are pnet.input_node_inds.\n",
    "\n",
    "Note: in the Boolean model, one might expect all solutions to be 0 or 1. However, we have found that periodic solutions are synonymous with the limit cycles of a fully continuous model, and that taking the average of all states in the period of the cyclic solution produces the analogous result that is obtained in eq'm searches of the fully continuous model. "
   ]
  },
  {
   "cell_type": "code",
   "execution_count": null,
   "id": "c448439e-a7c9-4843-974d-69446e57e8c5",
   "metadata": {},
   "outputs": [],
   "source": [
    "# Save the input states to a csv file:\n",
    "save_inputss_data = os.path.join(save_path, f'InputStates_{libg.name}.csv')\n",
    "# headr = [f'{ni},' for ni in np.asarray(smach.Receptor tyrosine kinases_pnet.nodes_list)[smach._pnet.input_node_inds]]\n",
    "np.savetxt(save_inputss_data, sig_test_set, \n",
    "           delimiter=',', header='')"
   ]
  },
  {
   "cell_type": "code",
   "execution_count": null,
   "id": "3e6b8476-9ab6-4bb8-99a1-16719acd71c9",
   "metadata": {
    "tags": []
   },
   "outputs": [],
   "source": [
    "# Plot the set of input states. These are applied to the GRN system in order to drive transitions between stable eq'm states.\n",
    "y_input_labels = [bnet.nodes_list[ni] for ni in bnet.input_node_inds]\n",
    "x_input_labels = [f'I{ni}' for ni, _ in enumerate(sig_test_set)]\n",
    "\n",
    "save_inputs_image = os.path.join(save_path, f'InputStates_{libg.name}_smach.png')\n",
    "fig, ax = bnet.plot_pixel_matrix(sig_test_set.T,\n",
    "                          x_input_labels,\n",
    "                           y_input_labels,\n",
    "                         figsave=save_inputs_image,\n",
    "                         cmap=None,\n",
    "                               figsize=(10,10),\n",
    "                               fontsize=16\n",
    "                         )"
   ]
  },
  {
   "cell_type": "code",
   "execution_count": null,
   "id": "fb6b8b60-821d-4959-8ff6-998b131cf3a0",
   "metadata": {},
   "outputs": [],
   "source": [
    "# See the number of unique solutions as the number of columns (here there are 15 unique eq'm solutions for the 53 nodes of the GRN):\n",
    "solsM_all.shape"
   ]
  },
  {
   "cell_type": "code",
   "execution_count": null,
   "id": "53a286fa-0b9a-4a3d-9ca1-b78ea5f04bcb",
   "metadata": {},
   "outputs": [],
   "source": [
    "# See the eq'm state dynamic characterizations for each of the 15 eq'm states of solsM_all: \n",
    "charM_all"
   ]
  },
  {
   "cell_type": "code",
   "execution_count": null,
   "id": "a09881d2-bae2-42f4-abac-0455fe67774b",
   "metadata": {},
   "outputs": [],
   "source": [
    "# Save the eq'm solution results matrix to a text file:\n",
    "save_sols_data = os.path.join(save_path, f'SolsM_{libg.name}.csv')\n",
    "np.savetxt(save_sols_data, solsM_all[bnet.noninput_node_inds, :], delimiter=',', header='')"
   ]
  },
  {
   "cell_type": "code",
   "execution_count": null,
   "id": "675abd8f-311c-4756-9db9-8acbe36c88ee",
   "metadata": {
    "tags": []
   },
   "outputs": [],
   "source": [
    "# View and save all eq'm solutions results matrix over all nodes of the GRN (excluding the input nodes) to an image file:\n",
    "bool_sols_c = f'bool_solM_{libg.name}.png'\n",
    "save_bool_sols = os.path.join(save_path, bool_sols_c) \n",
    "\n",
    "bnet.plot_sols_array(solsM_all,\n",
    "                        gene_inds = np.setdiff1d(bnet.main_nodes, bnet.output_node_inds),\n",
    "                        figsave=save_bool_sols,\n",
    "                        cmap = None,\n",
    "                        save_format = 'png',\n",
    "                        figsize = (20, 20))\n"
   ]
  },
  {
   "cell_type": "code",
   "execution_count": null,
   "id": "d9eb7df0-a48c-4619-8042-08e56d4d5e94",
   "metadata": {
    "tags": []
   },
   "outputs": [],
   "source": [
    "# View and save all eq'm solutions results, from the perspective of the output nodes, to a matrix to an image file:\n",
    "if len(bnet.output_node_inds): # Not all GRNs have zero-out-degree output nodes so we need to check to see if they exist\n",
    "    bool_sols_c = f'bool_out_solM_{libg.name}.png'\n",
    "    save_bool_sols = os.path.join(save_path, bool_sols_c) \n",
    "\n",
    "    bnet.plot_sols_array(solsM_all,\n",
    "                            gene_inds = bnet.output_node_inds,\n",
    "                            figsave=save_bool_sols,\n",
    "                            cmap = 'viridis',\n",
    "                            save_format = 'png',\n",
    "                            figsize = (15, 15))"
   ]
  },
  {
   "cell_type": "markdown",
   "id": "ecda3a0e-d225-42db-8c3e-24c50ce78f75",
   "metadata": {},
   "source": [
    "### Step 4: Creating the NFSM edges\n",
    "\n",
    "We show how to run the state-machine construction routine, [create_transition_network](https://github.com/betsee/cellnition/blob/46601f3294d9f14cc87d25aa12ed09215fec6114/cellnition/science/networks_toolbox/boolean_state_machine.py#L258) of [BoolStateMachine](https://github.com/betsee/cellnition/blob/eceb030c3359fa891943a550603bd20bbd551bba/cellnition/science/networks_toolbox/boolean_state_machine.py#L26), to build both of the NFSM types for the Boolean GRN model."
   ]
  },
  {
   "cell_type": "code",
   "execution_count": null,
   "id": "79005995-3cc3-4970-93af-366533fafd24",
   "metadata": {
    "tags": []
   },
   "outputs": [],
   "source": [
    "# Create the edges of the transition network:\n",
    "verbose = False # Recieve output from the method while it's still solving (True)? # NOTE: for large GRNs this output can be enormous!  \n",
    "save_graph_file = os.path.join(save_path, f'GNFSM_{libg.name}.gml') # path to save the GNFSM edges file: \n",
    "\n",
    "gNFSM_edges_set, eNFSM_edges_set, GG = bsm.create_transition_network(\n",
    "                                  states_dict,\n",
    "                                  sig_test_set,\n",
    "                                  solsM_all,\n",
    "                                  charM_all,\n",
    "                                  verbose = verbose,\n",
    "                                  remove_inaccessible_states=False,\n",
    "                                  save_graph_file = save_graph_file,\n",
    "                                  n_max_steps=n_max_steps,\n",
    "                                  output_nodes_only=output_nodes_only\n",
    "                                  )"
   ]
  },
  {
   "cell_type": "markdown",
   "id": "c3be3744-c550-4d22-8739-d46681d7fa82",
   "metadata": {
    "tags": []
   },
   "source": [
    "#### Understanding the outputs\n",
    "\n",
    "- transition_edges_set : tuples recording transitions from eq'm state i to eq'm state j under input state k\n",
    "- pert_edges_set : tuples recording path-dependent transitions from eq'm state i to eq'm state j under transient input state k and held context input state l\n",
    "- G_nx : networkx MultiDiGraph object representing the transition_edges_set (i.e. the G-NFSM)"
   ]
  },
  {
   "cell_type": "markdown",
   "id": "d83a8f10-8c4d-43bb-a2a3-e7cb867511f7",
   "metadata": {},
   "source": [
    "## Step 5: Define idealized physiological states referencing cell conditions & plot NFSMs\n",
    "\n",
    "We define output states representing the idealized cases of cell outcomes such as \"cancer\", \"senecence\" or \"normal\" status, and use these idealized output vectors to compare how far the detected eq'm states of the system are to the idealized output (e.g. by calculating the Euclidean distance between an eq'm state of the GRN and the idealized cancer state vector. We next show how to save the NFSM graphs, and to use the [plot_state_transition_network](https://github.com/betsee/cellnition/blob/46601f3294d9f14cc87d25aa12ed09215fec6114/cellnition/science/networks_toolbox/boolean_state_machine.py#L490) method of [BoolStateMachine](https://github.com/betsee/cellnition/blob/eceb030c3359fa891943a550603bd20bbd551bba/cellnition/science/networks_toolbox/boolean_state_machine.py#L26) to plot the 'general' NFSM (G-NFSM) and the [plot_state_perturbation_network](https://github.com/betsee/cellnition/blob/46601f3294d9f14cc87d25aa12ed09215fec6114/cellnition/science/networks_toolbox/boolean_state_machine.py#L490) method of [BoolStateMachine](https://github.com/betsee/cellnition/blob/eceb030c3359fa891943a550603bd20bbd551bba/cellnition/science/networks_toolbox/boolean_state_machine.py#L26) to plot the event-driven NFSM (E-NFSM).  "
   ]
  },
  {
   "cell_type": "code",
   "execution_count": null,
   "id": "729535fe-67c2-46ec-942d-4e3376b7c158",
   "metadata": {},
   "outputs": [],
   "source": [
    "# Take a look at node identity and order of output node inds:\n",
    "np.asarray(bnet.nodes_list)[bnet.output_node_inds]"
   ]
  },
  {
   "cell_type": "code",
   "execution_count": null,
   "id": "48aa1a02-9b0b-47ce-9ab5-84d506a04fec",
   "metadata": {
    "tags": []
   },
   "outputs": [],
   "source": [
    "# Next, define phenomenological biological states based on the individual outputs:\n",
    "cancer_state_A = [0.0, 0.0, 1.0] # High proliferation with no apoptosis\n",
    "cancer_state_B = [0.0, 0.5, 1.0] # High proliferation, no apoptosis, but with growth arrest\n",
    "senescence_phenotype = [0.0, 1.0, 0.0] # High growth arrest, minimal everything else \n",
    "normal_cell_A = [0.5, 0.5, 0.5] # \"Balanced\" normal/healthy cell state \n",
    "normal_cell_B = [0.5, 0.0, 0.5] # \"Balanced\" normal/healthy cell state \n",
    "indeterminite_cell_state = [0.0, 0.0, 0.0] # Undetermined cell state\n",
    "\n",
    "test_state = cancer_state_A # We're going to define the cancer_state_A as our state of concern\n",
    "\n",
    "test_inds = bnet.output_node_inds # Output inds represent the nodes that we're testing with respect to\n",
    "\n",
    "# Now, let's find the best match in the state matrix for each of these:\n",
    "match_state, match_error = bsm._find_state_match(bsm._solsM_all[test_inds, :], test_state)\n",
    "\n",
    "cancer_metric_list = [] # list that will hold measures of eq'm state \"distance\" to the cancer state \n",
    "for state_i in bsm._solsM_all[test_inds, :].T:\n",
    "    cancer_metric_list.append(np.linalg.norm(state_i - cancer_state_A))\n"
   ]
  },
  {
   "cell_type": "code",
   "execution_count": null,
   "id": "4837607f-0616-46ee-8366-5925ec2c1350",
   "metadata": {},
   "outputs": [],
   "source": [
    "# Now we can see the eq'm state indices in order from most cancer-similar to least cancer-similar:\n",
    "np.argsort(cancer_metric_list)"
   ]
  },
  {
   "cell_type": "code",
   "execution_count": null,
   "id": "31e35124-3df0-4731-a336-769266b4e0bd",
   "metadata": {},
   "outputs": [],
   "source": [
    "# Visually affirm that the above state ordering is indeed arranged with respect to the cancer_state_A:\n",
    "state_i = 4\n",
    "solsM_all[bnet.output_node_inds, state_i]"
   ]
  },
  {
   "cell_type": "code",
   "execution_count": null,
   "id": "ce4091a8-1bc7-4240-ac27-06fa826691bb",
   "metadata": {
    "tags": []
   },
   "outputs": [],
   "source": [
    "# Plotting and saving the gNFSM and eNFSM:\n",
    "# This time we color-code the nodes of the NFSMs to show their distance from the cancer_state_A (where red is closest, blue is most distant)\n",
    "mono_edge = False\n",
    "\n",
    "nodes_list = list(GG.nodes())\n",
    "edges_list = list(GG.edges)\n",
    "\n",
    "\n",
    "if mono_edge is True:\n",
    "    mono_lab = 'monoedge'\n",
    "else:\n",
    "    mono_lab = 'multiedge'\n",
    "\n",
    "\n",
    "save_transition_net_image = os.path.join(save_path, f'G_NFSM_{libg.name}_' + mono_lab + fimg)\n",
    "G_gv = bsm.plot_state_transition_network(nodes_list,\n",
    "                                                      edges_list,\n",
    "                                                      bsm._charM_all,\n",
    "                                                      save_file=save_transition_net_image,\n",
    "                                                      graph_layout='dot',\n",
    "                                                      mono_edge=True,\n",
    "                                                      constraint= True,\n",
    "                                                       concentrate = False,\n",
    "                                                      node_colors=cancer_metric_list,\n",
    "                                                      rank='same',\n",
    "                                                      cmap_str='RdBu',\n",
    "                                                      transp_str='60'\n",
    "                                         \n",
    "                                                      )\n",
    "\n",
    "\n",
    "save_perturbation_net_image = os.path.join(save_path, f'E_NFSM_{libg.name}_' + mono_lab + fimg)\n",
    "G_pert = bsm.plot_state_perturbation_network(eNFSM_edges_set,\n",
    "                                               bsm._charM_all,\n",
    "                                               nodes_listo=nodes_list,\n",
    "                                               save_file=save_perturbation_net_image,\n",
    "                                              graph_layout='dot',\n",
    "                                              mono_edge=mono_edge,\n",
    "                                              constraint= True,\n",
    "                                              concentrate = False,\n",
    "                                             node_colors=cancer_metric_list,\n",
    "                                              cmap_str='RdBu',\n",
    "                                                transp_str='60',\n",
    "                                               rank='same'\n",
    "                                              )"
   ]
  },
  {
   "cell_type": "markdown",
   "id": "44229838-b861-4292-a604-e9751013a623",
   "metadata": {},
   "source": [
    "## Step 6: Test the NFSM predictions using pseudo-time stepping sequences   \n",
    "Finally, we show how to test the results of the NFSMs by running pseudo-time-based simulations (sequence simulations on the Boolean model) where a particular sequence of applied inputs is used to drive the system through the NFSM, where stable states are automatically detected and matched by the Cellnition program. We do this using the [sim_sequence_trajectory](https://github.com/betsee/cellnition/blob/f850bf33e5ae8b18332faad373ec5cd299ec1b6c/cellnition/science/networks_toolbox/boolean_state_machine.py#L652) method of [BoolStateMachine](https://github.com/betsee/cellnition/blob/91b516b8478d98e2012240ceebb0105fc55b80cc/cellnition/science/networks_toolbox/boolean_state_machine.py#L26). We show how the [BoolStateMachine](https://github.com/betsee/cellnition/blob/91b516b8478d98e2012240ceebb0105fc55b80cc/cellnition/science/networks_toolbox/boolean_state_machine.py#L26) method [plot_sequence_trajectory](https://github.com/betsee/cellnition/blob/f850bf33e5ae8b18332faad373ec5cd299ec1b6c/cellnition/science/networks_toolbox/boolean_state_machine.py#L695) can be used to visualize the results of the pseudo-temporal simulation.  "
   ]
  },
  {
   "cell_type": "code",
   "execution_count": null,
   "id": "38999b41-6f7e-4448-a93a-e21df6c520c9",
   "metadata": {},
   "outputs": [],
   "source": [
    "# Perform a pseudo-temporal simulation that examines state sequences of the Boolean GRN when \n",
    "# different input states are applied to the network and held for a specific time period. \n",
    "starting_state = 0 # State to start the system off in\n",
    "input_list = ['I0', 'I6', 'I2'] # Input states that will be applied in time, each held for a period of delta_sig\n",
    "n_seq_steps = len(bnet.main_nodes)*2 # Specify the number of iterations that the Boolean GRN solver will use to find an eq'm state (recommend 2x node number).\n",
    "match_tol = 0.1 # Match tolerance for the found state to a state in solsM_all\n",
    "verbose = True # Recieve output from the method while it's still solving (True)? \n",
    "\n",
    "tvectr, c_time, matched_states, char_states, phase_inds = bsm.sim_sequence_trajectory(starting_state,\n",
    "                                                            bsm._solsM_all,\n",
    "                                                            input_list,\n",
    "                                                            bsm._sig_test_set,\n",
    "                                                            n_seq_steps = n_seq_steps,\n",
    "                                                            verbose=verbose,\n",
    "                                                            match_tol=match_tol\n",
    "                                                            )"
   ]
  },
  {
   "cell_type": "code",
   "execution_count": null,
   "id": "386cb2db-252d-4069-8cbc-6cbdccf1883c",
   "metadata": {},
   "outputs": [],
   "source": [
    "char_states"
   ]
  },
  {
   "cell_type": "code",
   "execution_count": null,
   "id": "e968d5c2-eaf5-4dce-a140-cf77b9347241",
   "metadata": {},
   "outputs": [],
   "source": [
    "# Visualize the output nodes:\n",
    "np.asarray(bnet.nodes_list)[bnet.output_node_inds], bnet.output_node_inds"
   ]
  },
  {
   "cell_type": "code",
   "execution_count": null,
   "id": "24ec5a82-c42e-41a2-878f-cbca0c387aec",
   "metadata": {},
   "outputs": [],
   "source": [
    "# Plot the results of the pseudo-time simulation with respect to the output node levels: \n",
    "input_seq = ''\n",
    "for ii in input_list:\n",
    "    input_seq += ii + '_'\n",
    "\n",
    "savefig = os.path.join(tmp_path, f'pseudotime_trajectory_{input_seq}{libg.name}.png')\n",
    "\n",
    "fig, ax = bsm.plot_sequence_trajectory(c_time,\n",
    "                                         tvectr,\n",
    "                                         phase_inds,\n",
    "                                         matched_states,\n",
    "                                         char_states,\n",
    "                                         gene_plot_inds=bnet.output_node_inds,\n",
    "                                         figsize = (10, 4),\n",
    "                                         state_label_offset = 0.02,\n",
    "                                         glyph_zoom=0.15,\n",
    "                                         glyph_alignment=(-0.0, -0.15),\n",
    "                                         fontsize='medium',\n",
    "                                         save_file = savefig,\n",
    "                                         legend=True,\n",
    "                                         )"
   ]
  }
 ],
 "metadata": {
  "kernelspec": {
   "display_name": "Python [conda env:ionyou_dev] *",
   "language": "python",
   "name": "conda-env-ionyou_dev-py"
  },
  "language_info": {
   "codemirror_mode": {
    "name": "ipython",
    "version": 3
   },
   "file_extension": ".py",
   "mimetype": "text/x-python",
   "name": "python",
   "nbconvert_exporter": "python",
   "pygments_lexer": "ipython3",
   "version": "3.13.2"
  }
 },
 "nbformat": 4,
 "nbformat_minor": 5
}
