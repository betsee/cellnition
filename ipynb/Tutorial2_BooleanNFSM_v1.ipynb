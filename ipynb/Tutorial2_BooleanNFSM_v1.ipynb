{
 "cells": [
  {
   "cell_type": "markdown",
   "id": "02ab7b60-5c8e-4a08-a6e6-062f6753a9ea",
   "metadata": {},
   "source": [
    "# Tutorial #2: Creating Network Finite State Machines from a Boolean Gene Regulatory Network Model \n",
    "Here we demonstrate how to create Network Finite State Machines (NFSMs) from a Boolean, logic-based Gene Regulatory Network (GRN) model. Here we use the [MAPK Cancer Cell Fate Network](https://research.cellcollective.org/dashboard#module/7984:1/mapk-cancer-cell-fate-network/1) created by [Grieco et. al - 2017](https://journals.plos.org/ploscompbiol/article?id=10.1371/journal.pcbi.1003286), sourced from the Cell Collective database. In the Boolean model, the expression state (as True = 1 or False = 0) of each node was prescribed by logic equations, which represent the activation or inhibition interactions of the expression of one node upon the expression of another. \n",
    "\n",
    "Here we specifically run-through the following steps to arrive at NFSMs:\n",
    "1. We show how to load the GRN from the Cellnition network library, where the [MAPK_net](https://github.com/betsee/cellnition/blob/46601f3294d9f14cc87d25aa12ed09215fec6114/cellnition/science/network_models/network_library.py#L2277) is loaded from the Cellnition network library into a [BooleanNet](https://github.com/betsee/cellnition/blob/46601f3294d9f14cc87d25aa12ed09215fec6114/cellnition/science/network_models/boolean_networks.py#L25) class and the network is built using the [build_network_from_edges method](https://github.com/betsee/cellnition/blob/46601f3294d9f14cc87d25aa12ed09215fec6114/cellnition/science/network_models/network_abc.py#L89) of the BooleanNet. We characterize the network, determining cycles, node input and output degree, node hierarchical level (see [Moutsinas et. al - 2021](https://www.nature.com/articles/s41598-021-93161-4)), etc, using the [characterize_graph](https://github.com/betsee/cellnition/blob/46601f3294d9f14cc87d25aa12ed09215fec6114/cellnition/science/network_models/network_abc.py#L214) method of BooleanNet), and generate visualizations for the GRN as a network diagram using [plot_network](https://github.com/betsee/cellnition/blob/46601f3294d9f14cc87d25aa12ed09215fec6114/cellnition/science/networks_toolbox/netplot.py#L8). We note that other networks can be loaded from the Cellnition [network library](https://github.com/betsee/cellnition/blob/46601f3294d9f14cc87d25aa12ed09215fec6114/cellnition/science/network_models/network_library.py#L1) that readily work with the BooleanNet solver. We also note that nodes of the network have been automatically categorized as inputs, outputs, and internal nodes when the 'characterize_graph' method is utilized. \n",
    "2. We show how to use the loaded GRN to automatically construct an analytical Boolean model consisting of logical expressions describing node expressions using the [build_boolean_model](https://github.com/betsee/cellnition/blob/46601f3294d9f14cc87d25aa12ed09215fec6114/cellnition/science/network_models/boolean_networks.py#L111) method of BooleanNet. We show how to visualize and export these equations for use in publications and reports using the [save_model_equations](https://github.com/betsee/cellnition/blob/46601f3294d9f14cc87d25aa12ed09215fec6114/cellnition/science/network_models/boolean_networks.py#L754) method of BooleanNet.\n",
    "3. We next instantiate the [BoolStateMachine](https://github.com/betsee/cellnition/blob/46601f3294d9f14cc87d25aa12ed09215fec6114/cellnition/science/networks_toolbox/boolean_state_machine.py#L26) class, and use the Boolean model of the GRN with the BoolStateMachine object to search for equilibrium states of the GRN system for each member of the set of possible input states using the [steady_state_solutions_search](https://github.com/betsee/cellnition/blob/46601f3294d9f14cc87d25aa12ed09215fec6114/cellnition/science/networks_toolbox/boolean_state_machine.py#L166) method of BoolStateMachine. These equilibrium states are automatically subjected to a characterization to determine their dynamic quality (e.g. as a point attractor, metastable saddle, or continuously oscilating limit cycle, etc, see the code in the [net_state_compute](https://github.com/betsee/cellnition/blob/46601f3294d9f14cc87d25aa12ed09215fec6114/cellnition/science/network_models/boolean_networks.py#L342) method of BooleanNet for details). Finally, we show how to write export a visualization of the matrix of unique equilibrium states using the [plot_sols_array](https://github.com/betsee/cellnition/blob/46601f3294d9f14cc87d25aa12ed09215fec6114/cellnition/science/network_models/network_abc.py#L652) method of BooleanNet.\n",
    "4. We show how to run the state-machine construction routine, [create_transition_network](https://github.com/betsee/cellnition/blob/46601f3294d9f14cc87d25aa12ed09215fec6114/cellnition/science/networks_toolbox/boolean_state_machine.py#L258) of BoolStateMachine, to build both of the NFSM types for the Boolean GRN model.\n",
    "5. We next show how to save the NFSM graphs, and to use the [plot_state_transition_network](https://github.com/betsee/cellnition/blob/46601f3294d9f14cc87d25aa12ed09215fec6114/cellnition/science/networks_toolbox/boolean_state_machine.py#L490) method of BoolStateMachine to plot the 'general' NFSM (G-NFSM) and the [plot_state_perturbation_network](https://github.com/betsee/cellnition/blob/46601f3294d9f14cc87d25aa12ed09215fec6114/cellnition/science/networks_toolbox/boolean_state_machine.py#L490) method of BoolStateMachine to plot the event-driven NFSM (E-NFSM).   "
   ]
  },
  {
   "cell_type": "code",
   "execution_count": 2,
   "id": "052e0c0f-2474-4784-96d1-8689f68cf2f1",
   "metadata": {
    "tags": []
   },
   "outputs": [],
   "source": [
    "import os\n",
    "import csv\n",
    "import copy\n",
    "import itertools\n",
    "from collections import OrderedDict\n",
    "import sympy as sp\n",
    "import numpy as np\n",
    "import matplotlib.pyplot as plt \n",
    "from matplotlib import cm\n",
    "from matplotlib import colors\n",
    "from matplotlib import colormaps\n",
    "import matplotlib.image as image\n",
    "from matplotlib.offsetbox import OffsetImage, AnnotationBbox\n",
    "from matplotlib.patches import Circle\n",
    "import pandas as pd\n",
    "from scipy.cluster.hierarchy import fclusterdata\n",
    "import networkx as nx\n",
    "\n",
    "from cellnition.science.network_models.basic_network import BasicNet\n",
    "from cellnition.science.network_models.network_enums import (EdgeType, \n",
    "                                                             GraphType, \n",
    "                                                             NodeType, \n",
    "                                                             InterFuncType, \n",
    "                                                             CouplingType, \n",
    "                                                             EquilibriumType\n",
    "                                                            )\n",
    "# from cellnition.science.network_workflow import NetworkWorkflow\n",
    "from cellnition.science.networks_toolbox.netplot import plot_network\n",
    "\n",
    "from cellnition.science.network_models.network_library import (StemCellNet, \n",
    "                                                               StemCellTriad, \n",
    "                                                               hESC_9a, \n",
    "                                                               TrinodeCycle,\n",
    "                                                               TrinodeCycleFullyConnected,\n",
    "                                                               TrinodeCycleFullyConnected2,\n",
    "                                                               StemCellTriadChain,\n",
    "                                                              AKTNet,\n",
    "                                                              BinodeCycle,\n",
    "                                                              MAPK_net)\n",
    "\n",
    "from cellnition.science.network_models.boolean_networks import BooleanNet\n",
    "from cellnition.science.networks_toolbox.boolean_state_machine import BoolStateMachine\n",
    "from cellnition.science.networks_toolbox.state_machine import StateMachine"
   ]
  },
  {
   "cell_type": "code",
   "execution_count": 3,
   "id": "beee80ed-24b1-4bad-8d2f-fcb5516c7f17",
   "metadata": {
    "tags": []
   },
   "outputs": [],
   "source": [
    "SMALL_SIZE = 14\n",
    "MEDIUM_SIZE = 14\n",
    "BIGGER_SIZE = 16\n",
    "\n",
    "plt.rc('font', size=SMALL_SIZE)          # controls default text sizes\n",
    "plt.rc('axes', titlesize=SMALL_SIZE)     # fontsize of the axes title\n",
    "plt.rc('axes', labelsize=MEDIUM_SIZE)    # fontsize of the x and y labels\n",
    "plt.rc('xtick', labelsize=SMALL_SIZE)    # fontsize of the tick labels\n",
    "plt.rc('ytick', labelsize=SMALL_SIZE)    # fontsize of the tick labels\n",
    "plt.rc('legend', fontsize=SMALL_SIZE)    # legend fontsize\n",
    "plt.rc('figure', titlesize=BIGGER_SIZE)  # fontsize of the figure title\n",
    "\n",
    "mono_edge = True\n",
    "fimg = '.png'"
   ]
  },
  {
   "cell_type": "code",
   "execution_count": 4,
   "id": "4364eba3-c97b-4cbb-abf2-65925991b3a3",
   "metadata": {
    "tags": []
   },
   "outputs": [],
   "source": [
    "# Save path for images and graphs:\n",
    "save_path_base = '/home/pietakio/Dropbox/Levin_2024/CellnitionTutorials'\n",
    "save_path_date = os.path.join(save_path_base, 'March13_2025')\n",
    "if not os.path.isdir(save_path_date):\n",
    "    os.makedirs(save_path_date)"
   ]
  },
  {
   "cell_type": "code",
   "execution_count": 5,
   "id": "e9d74bf8-99f1-448e-ab54-076120f231ac",
   "metadata": {
    "tags": []
   },
   "outputs": [],
   "source": [
    "libg = MAPK_net()\n",
    "# libg = hESC_9a()\n",
    "# libg = AKTNet()\n",
    "# libg = StemCellTriadChain()\n",
    "\n",
    "# Specify how multiple interactions should combine:\n",
    "multi_coupling_type = CouplingType.mix1 # activators combine as \"OR\" and inhibitors \"AND\"\n",
    "# multi_coupling_type = CouplingType.additive # everything \"OR\"\n",
    "# multi_coupling_type = CouplingType.multiplicative # everything \"AND\"\n",
    "# multi_coupling_type = CouplingType.mix2  # activators combine \"AND\" and inhibitors \"OR\"\n",
    "\n",
    "constitutive_express = False # activators present \"AND\" inhibitors absent for expression, when \"False\"\n",
    "\n",
    "verbose = False\n",
    "main_nodes_only = True\n",
    "\n",
    "graph_layout = 'dot'\n",
    "# graph_layout = 'neato'\n",
    "# graph_layout = 'circo'\n",
    "\n",
    "run_ind = 0"
   ]
  },
  {
   "cell_type": "code",
   "execution_count": 6,
   "id": "ea76fdf1-ebda-4efd-baa2-1369bee6d202",
   "metadata": {
    "tags": []
   },
   "outputs": [],
   "source": [
    "bn = BooleanNet() # instantiate bool net solver\n",
    "bn.build_network_from_edges(libg.edges) # build basic graph\n",
    "bn.characterize_graph() # characterize the graph and set key params\n",
    "bn.set_node_types()\n",
    "\n",
    "bn.set_edge_types(libg.edge_types) # set the edge types to the network"
   ]
  },
  {
   "cell_type": "code",
   "execution_count": 7,
   "id": "18279028-7686-4038-be00-6d28963ff326",
   "metadata": {
    "tags": []
   },
   "outputs": [
    {
     "name": "stderr",
     "output_type": "stream",
     "text": [
      "/home/pietakio/py/conda/envs/ionyou_dev/lib/python3.13/site-packages/pygraphviz/agraph.py:1403: RuntimeWarning: Warning: some nodes with margin (3.20,3.20) touch - falling back to straight line edges\n",
      "\n",
      "  warnings.warn(b\"\".join(errors).decode(self.encoding), RuntimeWarning)\n"
     ]
    }
   ],
   "source": [
    "# Save a plot of the graph:\n",
    "save_path_net = os.path.join(save_path_date, f'{libg.name}_{run_ind}' )\n",
    "if not os.path.isdir(save_path_net):\n",
    "    os.makedirs(save_path_net)\n",
    "\n",
    "graph_net_c = f'hier_graph_{libg.name}{fimg}'\n",
    "save_graph_net_hier = os.path.join(save_path_net, graph_net_c)\n",
    "\n",
    "cycle_tags = np.zeros(bn.N_nodes)\n",
    "cycle_tags[bn.nodes_in_cycles] = 1.0\n",
    "\n",
    "gp=plot_network(bn.nodes_list,\n",
    "                bn.edges_list,\n",
    "                bn.node_types,\n",
    "                bn.edge_types,\n",
    "                node_vals = bn.hier_node_level,\n",
    "                val_cmap = 'viridis_r',\n",
    "                save_path=save_graph_net_hier,\n",
    "                layout='dot',\n",
    "                rev_font_color=False,\n",
    "                label_edges=False,\n",
    "                net_font_name='DejaVu Sans Bold',\n",
    "                node_font_size=24,\n",
    "                edge_width=2.0,\n",
    "                nde_outline='Black',\n",
    "                arrowsize=2.0\n",
    "                )\n",
    "\n",
    "# Save a plot of the graph\n",
    "graph_net_c = f'circ_graph_{libg.name}{fimg}'\n",
    "save_graph_net_circo = os.path.join(save_path_net, graph_net_c)   \n",
    "\n",
    "cycle_tags = np.zeros(bn.N_nodes)\n",
    "cycle_tags[bn.nodes_in_cycles] = 1.0\n",
    "\n",
    "gp=plot_network(bn.nodes_list,\n",
    "                bn.edges_list,\n",
    "                bn.node_types,\n",
    "                bn.edge_types,\n",
    "                node_vals = bn.hier_node_level,\n",
    "                val_cmap = 'viridis_r',\n",
    "                save_path=save_graph_net_circo,\n",
    "                layout='circo',\n",
    "                rev_font_color=False,\n",
    "                label_edges=False,\n",
    "                net_font_name='DejaVu Sans Bold',\n",
    "                node_font_size=24,\n",
    "                edge_width=2.0,\n",
    "                nde_outline='Black',\n",
    "                arrowsize=2.0\n",
    "                )"
   ]
  },
  {
   "cell_type": "code",
   "execution_count": 8,
   "id": "371f270d-c212-4353-9000-e5428a33a3b8",
   "metadata": {
    "tags": []
   },
   "outputs": [],
   "source": [
    "# Save path for boolean net results:\n",
    "save_path_bool = os.path.join(save_path_net, f'bool_{multi_coupling_type.name[0:4]}' )\n",
    "if not os.path.isdir(save_path_bool):\n",
    "    os.makedirs(save_path_bool)"
   ]
  },
  {
   "cell_type": "code",
   "execution_count": 9,
   "id": "9e721807-1b9a-438b-839f-5107b8a65a0b",
   "metadata": {
    "tags": []
   },
   "outputs": [],
   "source": [
    "c_vect_s, A_bool_s, A_bool_f = bn.build_boolean_model(use_node_name=True,\n",
    "                                                      multi_coupling_type=multi_coupling_type,\n",
    "                                                     constitutive_express=constitutive_express)"
   ]
  },
  {
   "cell_type": "code",
   "execution_count": 10,
   "id": "147c1cbc-4d51-4f57-ab0a-12d830b9dd97",
   "metadata": {
    "tags": []
   },
   "outputs": [
    {
     "data": {
      "text/latex": [
       "$\\displaystyle \\left[\\begin{matrix}AKT\\\\AP_{1}\\\\ATF_{2}\\\\ATM\\\\Apoptosis\\\\BCL_{2}\\\\CREB\\\\DNA_{damage}\\\\DUSP_{1}\\\\EGFR\\\\EGFR_{stimulus}\\\\ELK_{1}\\\\ERK\\\\FGFR_{3}\\\\FGFR_{3 stimulus}\\\\FOS\\\\FOXO_{3}\\\\FRS_{2}\\\\GAB_{1}\\\\GADD_{45}\\\\GRB_{2}\\\\Growth_{Arrest}\\\\JNK\\\\JUN\\\\MAP3K1_{3}\\\\MAX\\\\MDM_{2}\\\\MEK_{1 2}\\\\MSK\\\\MTK_{1}\\\\MYC\\\\PDK_{1}\\\\PI3K\\\\PKC\\\\PLCG\\\\PPP2CA\\\\PTEN\\\\Proliferation\\\\RAF\\\\RAS\\\\RSK\\\\SMAD\\\\SOS\\\\SPRY\\\\TAK_{1}\\\\TAOK\\\\TGFBR\\\\TGFBR_{stimulus}\\\\p_{14}\\\\p_{21}\\\\p_{38}\\\\p_{53}\\\\p_{70}\\end{matrix}\\right]$"
      ],
      "text/plain": [
       "Matrix([\n",
       "[           AKT],\n",
       "[           AP1],\n",
       "[          ATF2],\n",
       "[           ATM],\n",
       "[     Apoptosis],\n",
       "[          BCL2],\n",
       "[          CREB],\n",
       "[    DNA_damage],\n",
       "[         DUSP1],\n",
       "[          EGFR],\n",
       "[ EGFR_stimulus],\n",
       "[          ELK1],\n",
       "[           ERK],\n",
       "[         FGFR3],\n",
       "[FGFR3_stimulus],\n",
       "[           FOS],\n",
       "[         FOXO3],\n",
       "[          FRS2],\n",
       "[          GAB1],\n",
       "[        GADD45],\n",
       "[          GRB2],\n",
       "[ Growth_Arrest],\n",
       "[           JNK],\n",
       "[           JUN],\n",
       "[      MAP3K1_3],\n",
       "[           MAX],\n",
       "[          MDM2],\n",
       "[        MEK1_2],\n",
       "[           MSK],\n",
       "[          MTK1],\n",
       "[           MYC],\n",
       "[          PDK1],\n",
       "[          PI3K],\n",
       "[           PKC],\n",
       "[          PLCG],\n",
       "[        PPP2CA],\n",
       "[          PTEN],\n",
       "[ Proliferation],\n",
       "[           RAF],\n",
       "[           RAS],\n",
       "[           RSK],\n",
       "[          SMAD],\n",
       "[           SOS],\n",
       "[          SPRY],\n",
       "[          TAK1],\n",
       "[          TAOK],\n",
       "[         TGFBR],\n",
       "[TGFBR_stimulus],\n",
       "[           p14],\n",
       "[           p21],\n",
       "[           p38],\n",
       "[           p53],\n",
       "[           p70]])"
      ]
     },
     "execution_count": 10,
     "metadata": {},
     "output_type": "execute_result"
    }
   ],
   "source": [
    "c_vect_s"
   ]
  },
  {
   "cell_type": "code",
   "execution_count": 11,
   "id": "e3d96855-9fcc-440a-8e8c-f6ff2bbb4465",
   "metadata": {
    "tags": []
   },
   "outputs": [
    {
     "data": {
      "text/plain": [
       "array([[DNA_damage],\n",
       "       [EGFR_stimulus],\n",
       "       [FGFR3_stimulus],\n",
       "       [TGFBR_stimulus]], dtype=object)"
      ]
     },
     "execution_count": 11,
     "metadata": {},
     "output_type": "execute_result"
    }
   ],
   "source": [
    "# Input node names:\n",
    "np.asarray(c_vect_s)[bn.input_node_inds]"
   ]
  },
  {
   "cell_type": "code",
   "execution_count": 12,
   "id": "35b8539b-c0b8-4123-9a0f-725e95542b5d",
   "metadata": {
    "tags": []
   },
   "outputs": [
    {
     "data": {
      "text/plain": [
       "array([[Apoptosis],\n",
       "       [Growth_Arrest],\n",
       "       [Proliferation]], dtype=object)"
      ]
     },
     "execution_count": 12,
     "metadata": {},
     "output_type": "execute_result"
    }
   ],
   "source": [
    "# Output node names\n",
    "np.asarray(c_vect_s)[bn.output_node_inds]"
   ]
  },
  {
   "cell_type": "code",
   "execution_count": 13,
   "id": "5a2cd6d8-a0db-495f-bcf1-fb8963e2deb4",
   "metadata": {
    "tags": []
   },
   "outputs": [
    {
     "data": {
      "text/latex": [
       "$\\displaystyle \\left[\\begin{matrix}PDK_{1} \\left(1 - PTEN\\right)\\\\\\frac{ATF_{2}}{3} + \\frac{FOS}{3} + \\frac{JUN}{3}\\\\\\frac{JNK}{2} + \\frac{p_{38}}{2}\\\\DNA_{damage}\\\\\\left(1 - BCL_{2}\\right) \\left(1 - ERK\\right) \\left(\\frac{FOXO_{3}}{2} + \\frac{p_{53}}{2}\\right)\\\\\\frac{AKT}{2} + \\frac{CREB}{2}\\\\MSK\\\\0\\\\CREB\\\\\\left(1 - GRB_{2}\\right) \\left(1 - PKC\\right) \\left(\\frac{EGFR_{stimulus}}{2} + \\frac{SPRY}{2}\\right)\\\\0\\\\\\frac{ERK}{3} + \\frac{JNK}{3} + \\frac{p_{38}}{3}\\\\MEK_{1 2}\\\\FGFR_{3 stimulus} \\left(1 - GRB_{2}\\right) \\left(1 - PKC\\right)\\\\0\\\\\\frac{CREB}{4} + \\frac{ELK_{1}}{4} + \\frac{ERK}{4} + \\frac{RSK}{4}\\\\JNK \\left(1 - AKT\\right)\\\\FGFR_{3} \\left(1 - GRB_{2}\\right) \\left(1 - SPRY\\right)\\\\\\frac{GRB_{2}}{2} + \\frac{PI3K}{2}\\\\\\frac{SMAD}{2} + \\frac{p_{53}}{2}\\\\\\frac{EGFR}{3} + \\frac{FRS_{2}}{3} + \\frac{TGFBR}{3}\\\\p_{21}\\\\\\left(1 - DUSP_{1}\\right) \\left(\\frac{MAP3K1_{3}}{4} + \\frac{MTK_{1}}{4} + \\frac{TAK_{1}}{4} + \\frac{TAOK}{4}\\right)\\\\JNK\\\\RAS\\\\p_{38}\\\\\\left(1 - p_{14}\\right) \\left(\\frac{AKT}{2} + \\frac{p_{53}}{2}\\right)\\\\\\left(1 - AP_{1}\\right) \\left(1 - PPP2CA\\right) \\left(\\frac{MAP3K1_{3}}{2} + \\frac{RAF}{2}\\right)\\\\\\frac{ERK}{2} + \\frac{p_{38}}{2}\\\\GADD_{45}\\\\\\frac{AKT}{3} + \\frac{MAX}{3} + \\frac{MSK}{3}\\\\PI3K\\\\\\frac{GAB_{1}}{3} + \\frac{RAS}{3} + \\frac{SOS}{3}\\\\PLCG\\\\\\frac{EGFR}{2} + \\frac{FGFR_{3}}{2}\\\\p_{38}\\\\p_{53}\\\\\\left(1 - p_{21}\\right) \\left(\\frac{MYC}{2} + \\frac{p_{70}}{2}\\right)\\\\\\left(1 - AKT\\right) \\left(1 - ERK\\right) \\left(\\frac{PKC}{2} + \\frac{RAS}{2}\\right)\\\\\\frac{PLCG}{2} + \\frac{SOS}{2}\\\\ERK\\\\TGFBR\\\\GRB_{2} \\left(1 - RSK\\right)\\\\ERK\\\\TGFBR\\\\ATM\\\\TGFBR_{stimulus}\\\\0\\\\MYC\\\\p_{53} \\left(1 - AKT\\right)\\\\\\left(1 - DUSP_{1}\\right) \\left(\\frac{MAP3K1_{3}}{4} + \\frac{MTK_{1}}{4} + \\frac{TAK_{1}}{4} + \\frac{TAOK}{4}\\right)\\\\\\left(1 - MDM_{2}\\right) \\left(\\frac{ATM}{2} + \\frac{p_{38}}{2}\\right)\\\\\\frac{ERK}{2} + \\frac{PDK_{1}}{2}\\end{matrix}\\right]$"
      ],
      "text/plain": [
       "Matrix([\n",
       "[                                    PDK1*(1 - PTEN)],\n",
       "[                             ATF2/3 + FOS/3 + JUN/3],\n",
       "[                                      JNK/2 + p38/2],\n",
       "[                                         DNA_damage],\n",
       "[             (1 - BCL2)*(1 - ERK)*(FOXO3/2 + p53/2)],\n",
       "[                                     AKT/2 + CREB/2],\n",
       "[                                                MSK],\n",
       "[                                                  0],\n",
       "[                                               CREB],\n",
       "[    (1 - GRB2)*(1 - PKC)*(EGFR_stimulus/2 + SPRY/2)],\n",
       "[                                                  0],\n",
       "[                              ERK/3 + JNK/3 + p38/3],\n",
       "[                                             MEK1_2],\n",
       "[                FGFR3_stimulus*(1 - GRB2)*(1 - PKC)],\n",
       "[                                                  0],\n",
       "[                    CREB/4 + ELK1/4 + ERK/4 + RSK/4],\n",
       "[                                      JNK*(1 - AKT)],\n",
       "[                        FGFR3*(1 - GRB2)*(1 - SPRY)],\n",
       "[                                    GRB2/2 + PI3K/2],\n",
       "[                                     SMAD/2 + p53/2],\n",
       "[                          EGFR/3 + FRS2/3 + TGFBR/3],\n",
       "[                                                p21],\n",
       "[(1 - DUSP1)*(MAP3K1_3/4 + MTK1/4 + TAK1/4 + TAOK/4)],\n",
       "[                                                JNK],\n",
       "[                                                RAS],\n",
       "[                                                p38],\n",
       "[                          (1 - p14)*(AKT/2 + p53/2)],\n",
       "[        (1 - AP1)*(1 - PPP2CA)*(MAP3K1_3/2 + RAF/2)],\n",
       "[                                      ERK/2 + p38/2],\n",
       "[                                             GADD45],\n",
       "[                              AKT/3 + MAX/3 + MSK/3],\n",
       "[                                               PI3K],\n",
       "[                             GAB1/3 + RAS/3 + SOS/3],\n",
       "[                                               PLCG],\n",
       "[                                   EGFR/2 + FGFR3/2],\n",
       "[                                                p38],\n",
       "[                                                p53],\n",
       "[                          (1 - p21)*(MYC/2 + p70/2)],\n",
       "[                (1 - AKT)*(1 - ERK)*(PKC/2 + RAS/2)],\n",
       "[                                     PLCG/2 + SOS/2],\n",
       "[                                                ERK],\n",
       "[                                              TGFBR],\n",
       "[                                     GRB2*(1 - RSK)],\n",
       "[                                                ERK],\n",
       "[                                              TGFBR],\n",
       "[                                                ATM],\n",
       "[                                     TGFBR_stimulus],\n",
       "[                                                  0],\n",
       "[                                                MYC],\n",
       "[                                      p53*(1 - AKT)],\n",
       "[(1 - DUSP1)*(MAP3K1_3/4 + MTK1/4 + TAK1/4 + TAOK/4)],\n",
       "[                         (1 - MDM2)*(ATM/2 + p38/2)],\n",
       "[                                     ERK/2 + PDK1/2]])"
      ]
     },
     "execution_count": 13,
     "metadata": {},
     "output_type": "execute_result"
    }
   ],
   "source": [
    "A_bool_s"
   ]
  },
  {
   "cell_type": "code",
   "execution_count": 14,
   "id": "c33b0449-5740-43cf-b850-5c6f564780b8",
   "metadata": {
    "tags": []
   },
   "outputs": [
    {
     "data": {
      "text/plain": [
       "(552, np.float64(7.709807538385837))"
      ]
     },
     "execution_count": 14,
     "metadata": {},
     "output_type": "execute_result"
    }
   ],
   "source": [
    "bn.N_cycles, bn.hier_incoherence"
   ]
  },
  {
   "cell_type": "code",
   "execution_count": 15,
   "id": "a1d0a5dd-94fd-4c42-a9d9-b2025aaec4a1",
   "metadata": {
    "tags": []
   },
   "outputs": [],
   "source": [
    "N_main = len(bn.main_nodes)"
   ]
  },
  {
   "cell_type": "code",
   "execution_count": 16,
   "id": "77022d64-5152-4b5e-81a3-a53d6f9e963f",
   "metadata": {
    "tags": []
   },
   "outputs": [
    {
     "data": {
      "text/plain": [
       "70368.744177664"
      ]
     },
     "execution_count": 16,
     "metadata": {},
     "output_type": "execute_result"
    }
   ],
   "source": [
    "(2**N_main)/1e9"
   ]
  },
  {
   "cell_type": "code",
   "execution_count": 17,
   "id": "7a2d541c-447c-486e-9b24-60a578fc114c",
   "metadata": {
    "tags": []
   },
   "outputs": [],
   "source": [
    "cc_o = [0 for i in bn.nodes_index]\n",
    "\n",
    "sig_vals = [1,0,0,0]\n",
    "# sig_vals = [0,0,0]\n",
    "solsv, cc_i, sol_char, motif = bn.net_sequence_compute(cc_o,\n",
    "                                                      A_bool_f,\n",
    "                                                      n_max_steps=len(bn.main_nodes)*2,\n",
    "                                                      constraint_inds=bn.input_node_inds,\n",
    "                                                      constraint_vals=sig_vals,\n",
    "                                                      verbose=verbose,\n",
    "                                                      )"
   ]
  },
  {
   "cell_type": "code",
   "execution_count": 18,
   "id": "8b48b91f-fa70-4043-8eca-c062c119ceec",
   "metadata": {
    "tags": []
   },
   "outputs": [
    {
     "data": {
      "text/plain": [
       "array(['Apoptosis', 'Growth_Arrest', 'Proliferation'], dtype='<U14')"
      ]
     },
     "execution_count": 18,
     "metadata": {},
     "output_type": "execute_result"
    }
   ],
   "source": [
    "np.asarray(bn.nodes_list)[bn.output_node_inds]"
   ]
  },
  {
   "cell_type": "code",
   "execution_count": 19,
   "id": "d4ab65c1-f17d-48eb-8bb4-2e66dfc3b495",
   "metadata": {
    "tags": []
   },
   "outputs": [
    {
     "data": {
      "image/png": "[encoded data removed]",
      "text/plain": [
       "<Figure size 640x480 with 1 Axes>"
      ]
     },
     "metadata": {},
     "output_type": "display_data"
    }
   ],
   "source": [
    "plt.figure()\n",
    "plt.plot(np.asarray(solsv)[:, bn.output_node_inds[2]])\n",
    "plt.show()"
   ]
  },
  {
   "cell_type": "code",
   "execution_count": 20,
   "id": "df210171-a021-44f8-913d-45b075ea5bb6",
   "metadata": {
    "tags": []
   },
   "outputs": [],
   "source": [
    "# %%timeit\n",
    "cc_o = [0 for i in bn.nodes_index]\n",
    "\n",
    "sig_vals = [1,0,0,0]\n",
    "# sig_vals = [0,0,0]\n",
    "\n",
    "cc_i, char_i = bn.net_state_compute(cc_o,\n",
    "                              A_bool_f,\n",
    "                              n_max_steps=len(bn.main_nodes)*2,\n",
    "                              constraint_inds=bn.input_node_inds,\n",
    "                              constraint_vals=sig_vals,\n",
    "                              verbose=verbose,\n",
    "                              )"
   ]
  },
  {
   "cell_type": "code",
   "execution_count": 21,
   "id": "e3319bda-2d20-45bd-b39b-6adccae8d4f4",
   "metadata": {
    "tags": []
   },
   "outputs": [
    {
     "data": {
      "text/plain": [
       "array([0.   , 0.75 , 0.5  , 1.   , 0.5  , 0.5  , 0.5  , 1.   , 0.5  ,\n",
       "       0.   , 0.   , 0.5  , 0.   , 0.   , 0.   , 0.625, 0.5  , 0.   ,\n",
       "       0.   , 0.75 , 0.   , 0.75 , 0.5  , 0.5  , 0.   , 0.5  , 0.25 ,\n",
       "       0.   , 0.5  , 0.75 , 0.5  , 0.   , 0.   , 0.   , 0.   , 0.5  ,\n",
       "       0.75 , 0.25 , 0.   , 0.   , 0.   , 0.   , 0.   , 0.   , 0.   ,\n",
       "       1.   , 0.   , 0.   , 0.5  , 0.75 , 0.5  , 0.75 , 0.   ])"
      ]
     },
     "execution_count": 21,
     "metadata": {},
     "output_type": "execute_result"
    }
   ],
   "source": [
    "cc_i"
   ]
  },
  {
   "cell_type": "code",
   "execution_count": 22,
   "id": "ba16567d-a307-4513-9ec7-a7db72505c0c",
   "metadata": {
    "tags": []
   },
   "outputs": [
    {
     "data": {
      "text/plain": [
       "<EquilibriumType.limit_cycle: 2>"
      ]
     },
     "execution_count": 22,
     "metadata": {},
     "output_type": "execute_result"
    }
   ],
   "source": [
    "char_i"
   ]
  },
  {
   "cell_type": "code",
   "execution_count": 23,
   "id": "8653b5db-48ef-43f6-babf-b7d6a6a9e185",
   "metadata": {
    "tags": []
   },
   "outputs": [
    {
     "data": {
      "text/plain": [
       "32"
      ]
     },
     "execution_count": 23,
     "metadata": {},
     "output_type": "execute_result"
    }
   ],
   "source": [
    "node_num_max=5\n",
    "2**node_num_max"
   ]
  },
  {
   "cell_type": "code",
   "execution_count": 24,
   "id": "bc234ebe-8a80-407b-9292-4a57e163b830",
   "metadata": {
    "tags": []
   },
   "outputs": [
    {
     "data": {
      "text/plain": [
       "46"
      ]
     },
     "execution_count": 24,
     "metadata": {},
     "output_type": "execute_result"
    }
   ],
   "source": [
    "len(bn.main_nodes)"
   ]
  },
  {
   "cell_type": "code",
   "execution_count": 45,
   "id": "46c7a2a0-ea3c-46d7-952b-b46f1d04a2bb",
   "metadata": {
    "tags": []
   },
   "outputs": [],
   "source": [
    "boolGG, boolpos = bn.bool_state_space(\n",
    "                                         A_bool_f,\n",
    "                                         constraint_inds=None,\n",
    "                                         constraint_vals=None,\n",
    "                                         signal_constr_vals = [0,0,0, 0],\n",
    "                                         search_main_nodes_only=True,\n",
    "                                         n_max_steps=2*len(bn.main_nodes),\n",
    "                                         node_num_max=node_num_max,\n",
    "                                         verbose=True)\n",
    "\n"
   ]
  },
  {
   "cell_type": "code",
   "execution_count": 46,
   "id": "cb65fd11-b84a-4222-a27f-d16753cc02a3",
   "metadata": {
    "tags": []
   },
   "outputs": [
    {
     "data": {
      "text/plain": [
       "2"
      ]
     },
     "execution_count": 46,
     "metadata": {},
     "output_type": "execute_result"
    }
   ],
   "source": [
    "graph_cycles = sorted(nx.simple_cycles(boolGG))\n",
    "N_cycles = len(graph_cycles)\n",
    "out_degree_sequence = [deg_i for nde_i, deg_i in boolGG.out_degree(list(boolGG.nodes))]  # aligns with node order\n",
    "in_degree_sequence = [deg_i for nde_i, deg_i in boolGG.in_degree(list(boolGG.nodes))]  # aligns with node order\n",
    "\n",
    "self_loops = list(nx.selfloop_edges(boolGG))\n",
    "nde_sinks = (np.asarray(out_degree_sequence) == 0).nonzero()[0]\n",
    "nde_div = np.asarray(out_degree_sequence) - np.asarray(in_degree_sequence)\n",
    "\n",
    "N_cycles"
   ]
  },
  {
   "cell_type": "code",
   "execution_count": 47,
   "id": "9ad11e51-3739-42d3-a3c5-a6a2921adb41",
   "metadata": {
    "tags": []
   },
   "outputs": [
    {
     "name": "stdout",
     "output_type": "stream",
     "text": [
      "1\n",
      "1\n"
     ]
    }
   ],
   "source": [
    "for cyc in graph_cycles:\n",
    "    print(len(cyc))"
   ]
  },
  {
   "cell_type": "code",
   "execution_count": 48,
   "id": "d2d01de4-5c69-4304-bbc3-8d3e5a89097f",
   "metadata": {
    "tags": []
   },
   "outputs": [
    {
     "data": {
      "text/plain": [
       "2"
      ]
     },
     "execution_count": 48,
     "metadata": {},
     "output_type": "execute_result"
    }
   ],
   "source": [
    "len(self_loops)"
   ]
  },
  {
   "cell_type": "code",
   "execution_count": 49,
   "id": "dccd1d06-e451-4d2e-afef-45ad1bfda348",
   "metadata": {
    "tags": []
   },
   "outputs": [],
   "source": [
    "nde_source = (np.asarray(in_degree_sequence) == 0).nonzero()[0]"
   ]
  },
  {
   "cell_type": "code",
   "execution_count": 50,
   "id": "8634f06d-5eec-47f1-a4c1-53b9937e4255",
   "metadata": {
    "tags": []
   },
   "outputs": [
    {
     "data": {
      "image/png": "[encoded data removed]",
      "text/plain": [
       "<Figure size 640x480 with 1 Axes>"
      ]
     },
     "metadata": {},
     "output_type": "display_data"
    }
   ],
   "source": [
    "nx.draw_networkx(boolGG, pos=nx.spring_layout(boolGG), with_labels=False, node_size=10)"
   ]
  },
  {
   "cell_type": "code",
   "execution_count": 51,
   "id": "eb51a165-d70c-4b00-96d4-c8f0adccc0da",
   "metadata": {
    "tags": []
   },
   "outputs": [
    {
     "data": {
      "text/plain": [
       "2"
      ]
     },
     "execution_count": 51,
     "metadata": {},
     "output_type": "execute_result"
    }
   ],
   "source": [
    "sol_M, sol_char = bn.solve_system_equms(A_bool_f,\n",
    "                           constraint_inds = None,\n",
    "                           constraint_vals = None,\n",
    "                           signal_constr_vals=[0,0,0,0],\n",
    "                           search_main_nodes_only=True,\n",
    "                           n_max_steps=2*len(bn.main_nodes),\n",
    "                           node_num_max=node_num_max,\n",
    "                           verbose=False\n",
    "                           )\n",
    "sol_M.shape[1]"
   ]
  },
  {
   "cell_type": "code",
   "execution_count": 52,
   "id": "8271fb8e-4f35-4458-863d-1134cc1ac4d6",
   "metadata": {
    "tags": []
   },
   "outputs": [
    {
     "data": {
      "text/plain": [
       "(53, 2)"
      ]
     },
     "execution_count": 52,
     "metadata": {},
     "output_type": "execute_result"
    }
   ],
   "source": [
    "sol_M.shape"
   ]
  },
  {
   "cell_type": "code",
   "execution_count": 53,
   "id": "07299052-d9a9-4b46-9084-0cf8e8d8ab1b",
   "metadata": {
    "tags": []
   },
   "outputs": [
    {
     "data": {
      "text/plain": [
       "array([[0., 1.],\n",
       "       [0., 0.],\n",
       "       [0., 0.],\n",
       "       [0., 0.],\n",
       "       [0., 0.],\n",
       "       [0., 1.],\n",
       "       [0., 0.],\n",
       "       [0., 0.],\n",
       "       [0., 0.],\n",
       "       [0., 0.],\n",
       "       [0., 0.],\n",
       "       [0., 0.],\n",
       "       [0., 0.],\n",
       "       [0., 0.],\n",
       "       [0., 0.],\n",
       "       [0., 0.],\n",
       "       [0., 0.],\n",
       "       [0., 0.],\n",
       "       [0., 1.],\n",
       "       [0., 0.],\n",
       "       [0., 0.],\n",
       "       [0., 0.],\n",
       "       [0., 0.],\n",
       "       [0., 0.],\n",
       "       [0., 0.],\n",
       "       [0., 0.],\n",
       "       [0., 0.],\n",
       "       [0., 0.],\n",
       "       [0., 0.],\n",
       "       [0., 0.],\n",
       "       [0., 1.],\n",
       "       [0., 1.],\n",
       "       [0., 1.],\n",
       "       [0., 0.],\n",
       "       [0., 0.],\n",
       "       [0., 0.],\n",
       "       [0., 0.],\n",
       "       [0., 1.],\n",
       "       [0., 0.],\n",
       "       [0., 0.],\n",
       "       [0., 0.],\n",
       "       [0., 0.],\n",
       "       [0., 0.],\n",
       "       [0., 0.],\n",
       "       [0., 0.],\n",
       "       [0., 0.],\n",
       "       [0., 0.],\n",
       "       [0., 0.],\n",
       "       [0., 1.],\n",
       "       [0., 0.],\n",
       "       [0., 0.],\n",
       "       [0., 0.],\n",
       "       [0., 1.]])"
      ]
     },
     "execution_count": 53,
     "metadata": {},
     "output_type": "execute_result"
    }
   ],
   "source": [
    "sol_M"
   ]
  },
  {
   "cell_type": "code",
   "execution_count": 54,
   "id": "68019c6a-687a-4963-a99f-e83276be14cd",
   "metadata": {
    "tags": []
   },
   "outputs": [
    {
     "data": {
      "text/plain": [
       "array([<EquilibriumType.attractor: 0>, <EquilibriumType.attractor: 0>],\n",
       "      dtype=object)"
      ]
     },
     "execution_count": 54,
     "metadata": {},
     "output_type": "execute_result"
    }
   ],
   "source": [
    "sol_char"
   ]
  },
  {
   "cell_type": "code",
   "execution_count": 55,
   "id": "5a71c32b-a383-4794-a64d-b7718334340e",
   "metadata": {
    "tags": []
   },
   "outputs": [],
   "source": [
    "bsm = BoolStateMachine(bn)"
   ]
  },
  {
   "cell_type": "code",
   "execution_count": 56,
   "id": "5daa2390-da51-42a4-a8a3-351a4cf70e5f",
   "metadata": {
    "tags": []
   },
   "outputs": [],
   "source": [
    "node_num_max=12\n",
    "output_nodes_only = True\n",
    "n_max_steps = len(bn.main_nodes)*2\n",
    "main_nodes_only = True\n",
    "\n",
    "(solsM_all, \n",
    " charM_all, \n",
    " sols_list, \n",
    " states_dict, \n",
    " sig_test_set) = bsm.steady_state_solutions_search(verbose=False,\n",
    "                                      search_main_nodes_only=main_nodes_only,\n",
    "                                      n_max_steps=n_max_steps,\n",
    "                                      order_by_distance=False,\n",
    "                                      node_num_max=node_num_max,\n",
    "                                      output_nodes_only=output_nodes_only\n",
    "                                      )"
   ]
  },
  {
   "cell_type": "code",
   "execution_count": 57,
   "id": "20c14553-fe5d-4c59-8e12-620f427a9231",
   "metadata": {
    "tags": []
   },
   "outputs": [
    {
     "data": {
      "text/plain": [
       "array(['TGFBR', 'SMAD', 'TAK1', 'TAOK', 'ATM', 'FGFR3', 'GADD45', 'EGFR',\n",
       "       'GRB2', 'PLCG', 'PKC', 'MTK1'], dtype='<U14')"
      ]
     },
     "execution_count": 57,
     "metadata": {},
     "output_type": "execute_result"
    }
   ],
   "source": [
    "(np.asarray(bn.nodes_list)[bn.noninput_node_inds])[np.argsort(bn.hier_node_level[bn.noninput_node_inds])[0:12]]"
   ]
  },
  {
   "cell_type": "code",
   "execution_count": 58,
   "id": "125b592a-c58b-43a0-b5a3-db738094d702",
   "metadata": {
    "tags": []
   },
   "outputs": [
    {
     "data": {
      "text/plain": [
       "OrderedDict([((0.0, 0.0, 0.0, 0.0),\n",
       "              {'States': [0, 1],\n",
       "               'Stability': [<EquilibriumType.attractor: 0>,\n",
       "                <EquilibriumType.saddle: 3>]}),\n",
       "             ((0.0, 0.0, 0.0, 1.0),\n",
       "              {'States': [1, 4],\n",
       "               'Stability': [<EquilibriumType.saddle: 3>,\n",
       "                <EquilibriumType.limit_cycle: 2>]}),\n",
       "             ((0.0, 0.0, 1.0, 0.0),\n",
       "              {'States': [3, 1],\n",
       "               'Stability': [<EquilibriumType.limit_cycle: 2>,\n",
       "                <EquilibriumType.saddle: 3>]}),\n",
       "             ((0.0, 0.0, 1.0, 1.0),\n",
       "              {'States': [1, 4],\n",
       "               'Stability': [<EquilibriumType.saddle: 3>,\n",
       "                <EquilibriumType.limit_cycle: 2>]}),\n",
       "             ((1.0, 0.0, 0.0, 0.0),\n",
       "              {'States': [14, 13, 6, 9, 12],\n",
       "               'Stability': [<EquilibriumType.limit_cycle: 2>,\n",
       "                <EquilibriumType.limit_cycle: 2>,\n",
       "                <EquilibriumType.limit_cycle: 2>,\n",
       "                <EquilibriumType.limit_cycle: 2>,\n",
       "                <EquilibriumType.limit_cycle: 2>]}),\n",
       "             ((1.0, 0.0, 0.0, 1.0),\n",
       "              {'States': [6, 9],\n",
       "               'Stability': [<EquilibriumType.limit_cycle: 2>,\n",
       "                <EquilibriumType.limit_cycle: 2>]}),\n",
       "             ((1.0, 0.0, 1.0, 0.0),\n",
       "              {'States': [6, 7, 9, 10, 12],\n",
       "               'Stability': [<EquilibriumType.limit_cycle: 2>,\n",
       "                <EquilibriumType.limit_cycle: 2>,\n",
       "                <EquilibriumType.limit_cycle: 2>,\n",
       "                <EquilibriumType.limit_cycle: 2>,\n",
       "                <EquilibriumType.limit_cycle: 2>]}),\n",
       "             ((1.0, 0.0, 1.0, 1.0),\n",
       "              {'States': [6, 9],\n",
       "               'Stability': [<EquilibriumType.limit_cycle: 2>,\n",
       "                <EquilibriumType.limit_cycle: 2>]}),\n",
       "             ((0.0, 1.0, 0.0, 0.0),\n",
       "              {'States': [5, 2],\n",
       "               'Stability': [<EquilibriumType.limit_cycle: 2>,\n",
       "                <EquilibriumType.limit_cycle: 2>]}),\n",
       "             ((0.0, 1.0, 0.0, 1.0),\n",
       "              {'States': [1, 4],\n",
       "               'Stability': [<EquilibriumType.saddle: 3>,\n",
       "                <EquilibriumType.limit_cycle: 2>]}),\n",
       "             ((0.0, 1.0, 1.0, 0.0),\n",
       "              {'States': [5, 2],\n",
       "               'Stability': [<EquilibriumType.limit_cycle: 2>,\n",
       "                <EquilibriumType.limit_cycle: 2>]}),\n",
       "             ((0.0, 1.0, 1.0, 1.0),\n",
       "              {'States': [1, 4],\n",
       "               'Stability': [<EquilibriumType.saddle: 3>,\n",
       "                <EquilibriumType.limit_cycle: 2>]}),\n",
       "             ((1.0, 1.0, 0.0, 0.0),\n",
       "              {'States': [8, 11, 6, 9],\n",
       "               'Stability': [<EquilibriumType.limit_cycle: 2>,\n",
       "                <EquilibriumType.limit_cycle: 2>,\n",
       "                <EquilibriumType.limit_cycle: 2>,\n",
       "                <EquilibriumType.limit_cycle: 2>]}),\n",
       "             ((1.0, 1.0, 0.0, 1.0),\n",
       "              {'States': [6, 9],\n",
       "               'Stability': [<EquilibriumType.limit_cycle: 2>,\n",
       "                <EquilibriumType.limit_cycle: 2>]}),\n",
       "             ((1.0, 1.0, 1.0, 0.0),\n",
       "              {'States': [8, 11, 6, 9],\n",
       "               'Stability': [<EquilibriumType.limit_cycle: 2>,\n",
       "                <EquilibriumType.limit_cycle: 2>,\n",
       "                <EquilibriumType.limit_cycle: 2>,\n",
       "                <EquilibriumType.limit_cycle: 2>]}),\n",
       "             ((1.0, 1.0, 1.0, 1.0),\n",
       "              {'States': [6, 9],\n",
       "               'Stability': [<EquilibriumType.limit_cycle: 2>,\n",
       "                <EquilibriumType.limit_cycle: 2>]})])"
      ]
     },
     "execution_count": 58,
     "metadata": {},
     "output_type": "execute_result"
    }
   ],
   "source": [
    "states_dict"
   ]
  },
  {
   "cell_type": "code",
   "execution_count": 59,
   "id": "7bddc217-2b3d-412b-9705-fc44ca59a363",
   "metadata": {
    "tags": []
   },
   "outputs": [
    {
     "data": {
      "text/plain": [
       "array([0.        , 0.11111111, 0.88888889])"
      ]
     },
     "execution_count": 59,
     "metadata": {},
     "output_type": "execute_result"
    }
   ],
   "source": [
    "solsM_all[bn.output_node_inds, 3]"
   ]
  },
  {
   "cell_type": "code",
   "execution_count": 60,
   "id": "ff8e5f21-e1ef-40a5-a3dd-220d0f8245be",
   "metadata": {
    "tags": []
   },
   "outputs": [
    {
     "data": {
      "text/plain": [
       "(53, 15)"
      ]
     },
     "execution_count": 60,
     "metadata": {},
     "output_type": "execute_result"
    }
   ],
   "source": [
    "solsM_all.shape"
   ]
  },
  {
   "cell_type": "code",
   "execution_count": 61,
   "id": "969805cc-ccee-4f40-bbae-a6fea1d657df",
   "metadata": {
    "tags": []
   },
   "outputs": [
    {
     "data": {
      "text/plain": [
       "15"
      ]
     },
     "execution_count": 61,
     "metadata": {},
     "output_type": "execute_result"
    }
   ],
   "source": [
    "len(charM_all)"
   ]
  },
  {
   "cell_type": "code",
   "execution_count": 62,
   "id": "f29c2ce5-09d1-4ac0-9536-371ecb0d8547",
   "metadata": {
    "tags": []
   },
   "outputs": [
    {
     "data": {
      "text/plain": [
       "array([<EquilibriumType.attractor: 0>, <EquilibriumType.saddle: 3>,\n",
       "       <EquilibriumType.limit_cycle: 2>, <EquilibriumType.limit_cycle: 2>,\n",
       "       <EquilibriumType.limit_cycle: 2>, <EquilibriumType.limit_cycle: 2>,\n",
       "       <EquilibriumType.limit_cycle: 2>, <EquilibriumType.limit_cycle: 2>,\n",
       "       <EquilibriumType.limit_cycle: 2>, <EquilibriumType.limit_cycle: 2>,\n",
       "       <EquilibriumType.limit_cycle: 2>, <EquilibriumType.limit_cycle: 2>,\n",
       "       <EquilibriumType.limit_cycle: 2>, <EquilibriumType.limit_cycle: 2>,\n",
       "       <EquilibriumType.limit_cycle: 2>], dtype=object)"
      ]
     },
     "execution_count": 62,
     "metadata": {},
     "output_type": "execute_result"
    }
   ],
   "source": [
    "charM_all"
   ]
  },
  {
   "cell_type": "code",
   "execution_count": 63,
   "id": "d3da4d3b-9ed5-4a60-8d7f-185f2092f05f",
   "metadata": {
    "tags": []
   },
   "outputs": [],
   "source": [
    "save_sols_data = os.path.join(save_path_bool, f'BoolSolM_{libg.name}.csv')\n",
    "np.savetxt(save_sols_data, solsM_all[bn.noninput_node_inds, :], delimiter=',', header='')"
   ]
  },
  {
   "cell_type": "code",
   "execution_count": 64,
   "id": "9d226a8b-6e96-4292-8ded-179eb602603f",
   "metadata": {
    "tags": []
   },
   "outputs": [
    {
     "data": {
      "text/plain": [
       "[4, 21, 37]"
      ]
     },
     "execution_count": 64,
     "metadata": {},
     "output_type": "execute_result"
    }
   ],
   "source": [
    "bn.output_node_inds"
   ]
  },
  {
   "cell_type": "code",
   "execution_count": 65,
   "id": "d9eb7df0-a48c-4619-8042-08e56d4d5e94",
   "metadata": {
    "tags": []
   },
   "outputs": [
    {
     "data": {
      "image/png": "[encoded data removed]",
      "text/plain": [
       "<Figure size 1500x1500 with 2 Axes>"
      ]
     },
     "metadata": {},
     "output_type": "display_data"
    }
   ],
   "source": [
    "if len(bn.output_node_inds):\n",
    "    bool_sols_c = f'bool_out_solM_{libg.name}.png'\n",
    "    save_bool_sols = os.path.join(save_path_bool, bool_sols_c) \n",
    "\n",
    "    bn.plot_sols_array(solsM_all,\n",
    "                            gene_inds = bn.output_node_inds,\n",
    "                            figsave=save_bool_sols,\n",
    "                            cmap = 'viridis',\n",
    "                            save_format = 'png',\n",
    "                            figsize = (15, 15))"
   ]
  },
  {
   "cell_type": "code",
   "execution_count": 66,
   "id": "9b070f58-de33-47fc-af49-5be33848affc",
   "metadata": {
    "tags": []
   },
   "outputs": [
    {
     "data": {
      "text/plain": [
       "array([ 0,  1,  2,  3,  5,  6,  8,  9, 11, 12, 13, 15, 16, 17, 18, 19, 20,\n",
       "       22, 23, 24, 25, 26, 27, 28, 29, 30, 31, 32, 33, 34, 35, 36, 38, 39,\n",
       "       40, 41, 42, 43, 44, 45, 46, 48, 49, 50, 51, 52])"
      ]
     },
     "execution_count": 66,
     "metadata": {},
     "output_type": "execute_result"
    }
   ],
   "source": [
    "np.setdiff1d(bn.main_nodes, bn.output_node_inds)"
   ]
  },
  {
   "cell_type": "code",
   "execution_count": 67,
   "id": "675abd8f-311c-4756-9db9-8acbe36c88ee",
   "metadata": {
    "tags": []
   },
   "outputs": [
    {
     "data": {
      "text/plain": [
       "(<Figure size 2000x2000 with 2 Axes>, <Axes: >)"
      ]
     },
     "execution_count": 67,
     "metadata": {},
     "output_type": "execute_result"
    },
    {
     "data": {
      "image/png": "[encoded data removed]",
      "text/plain": [
       "<Figure size 2000x2000 with 2 Axes>"
      ]
     },
     "metadata": {},
     "output_type": "display_data"
    }
   ],
   "source": [
    "bool_sols_c = f'bool_solM_{libg.name}.png'\n",
    "save_bool_sols = os.path.join(save_path_bool, bool_sols_c) \n",
    "\n",
    "bn.plot_sols_array(solsM_all,\n",
    "                        gene_inds = np.setdiff1d(bn.main_nodes, bn.output_node_inds),\n",
    "                        figsave=save_bool_sols,\n",
    "                        cmap = None,\n",
    "                        save_format = 'png',\n",
    "                        figsize = (20, 20))\n"
   ]
  },
  {
   "cell_type": "code",
   "execution_count": 68,
   "id": "79005995-3cc3-4970-93af-366533fafd24",
   "metadata": {
    "tags": []
   },
   "outputs": [],
   "source": [
    "gNFSM_edges_set, eNFSM_edges_set, GG = bsm.create_transition_network(\n",
    "                                  states_dict,\n",
    "                                  sig_test_set,\n",
    "                                  solsM_all,\n",
    "                                  verbose = False,\n",
    "                                  remove_inaccessible_states=False,\n",
    "                                  save_graph_file = None,\n",
    "                                  n_max_steps=n_max_steps,\n",
    "                                  output_nodes_only=output_nodes_only\n",
    "                                  )"
   ]
  },
  {
   "cell_type": "code",
   "execution_count": 69,
   "id": "79e5ed10-b0e4-456c-bae9-dca608099b91",
   "metadata": {
    "tags": []
   },
   "outputs": [
    {
     "data": {
      "text/plain": [
       "{(0, 0, 0),\n",
       " (0, 1, 1),\n",
       " (0, 1, 3),\n",
       " (0, 1, 9),\n",
       " (0, 1, 11),\n",
       " (0, 2, 8),\n",
       " (0, 2, 10),\n",
       " (0, 3, 2),\n",
       " (0, 9, 5),\n",
       " (0, 9, 7),\n",
       " (0, 9, 13),\n",
       " (0, 9, 15),\n",
       " (0, 10, 6),\n",
       " (0, 11, 12),\n",
       " (0, 11, 14),\n",
       " (0, 14, 4),\n",
       " (1, 1, 0),\n",
       " (1, 1, 1),\n",
       " (1, 1, 3),\n",
       " (1, 1, 9),\n",
       " (1, 1, 11),\n",
       " (1, 2, 8),\n",
       " (1, 2, 10),\n",
       " (1, 3, 2),\n",
       " (1, 9, 4),\n",
       " (1, 9, 5),\n",
       " (1, 9, 7),\n",
       " (1, 9, 13),\n",
       " (1, 9, 15),\n",
       " (1, 10, 6),\n",
       " (1, 11, 12),\n",
       " (1, 11, 14),\n",
       " (1, 12, 4),\n",
       " (2, 1, 0),\n",
       " (2, 1, 1),\n",
       " (2, 1, 3),\n",
       " (2, 1, 9),\n",
       " (2, 1, 11),\n",
       " (2, 2, 8),\n",
       " (2, 2, 10),\n",
       " (2, 3, 2),\n",
       " (2, 9, 5),\n",
       " (2, 9, 7),\n",
       " (2, 9, 13),\n",
       " (2, 9, 15),\n",
       " (2, 10, 6),\n",
       " (2, 11, 12),\n",
       " (2, 11, 14),\n",
       " (2, 12, 4),\n",
       " (3, 1, 0),\n",
       " (3, 1, 1),\n",
       " (3, 1, 3),\n",
       " (3, 1, 9),\n",
       " (3, 1, 11),\n",
       " (3, 2, 8),\n",
       " (3, 2, 10),\n",
       " (3, 3, 2),\n",
       " (3, 9, 5),\n",
       " (3, 9, 7),\n",
       " (3, 9, 13),\n",
       " (3, 9, 15),\n",
       " (3, 10, 6),\n",
       " (3, 11, 12),\n",
       " (3, 11, 14),\n",
       " (3, 12, 4),\n",
       " (4, 1, 1),\n",
       " (4, 1, 3),\n",
       " (4, 1, 9),\n",
       " (4, 1, 11),\n",
       " (5, 1, 0),\n",
       " (5, 1, 1),\n",
       " (5, 1, 3),\n",
       " (5, 1, 9),\n",
       " (5, 1, 11),\n",
       " (5, 3, 2),\n",
       " (5, 5, 8),\n",
       " (5, 5, 10),\n",
       " (5, 6, 5),\n",
       " (5, 6, 7),\n",
       " (5, 6, 13),\n",
       " (5, 6, 15),\n",
       " (5, 7, 6),\n",
       " (5, 8, 12),\n",
       " (5, 8, 14),\n",
       " (5, 9, 4),\n",
       " (6, 2, 8),\n",
       " (6, 2, 10),\n",
       " (6, 9, 4),\n",
       " (6, 9, 5),\n",
       " (6, 9, 7),\n",
       " (6, 9, 13),\n",
       " (6, 9, 15),\n",
       " (6, 10, 6),\n",
       " (6, 11, 12),\n",
       " (6, 11, 14),\n",
       " (6, 12, 4),\n",
       " (7, 1, 0),\n",
       " (7, 1, 1),\n",
       " (7, 1, 3),\n",
       " (7, 1, 9),\n",
       " (7, 1, 11),\n",
       " (7, 2, 8),\n",
       " (7, 2, 10),\n",
       " (7, 3, 2),\n",
       " (7, 9, 5),\n",
       " (7, 9, 7),\n",
       " (7, 9, 13),\n",
       " (7, 9, 15),\n",
       " (7, 10, 6),\n",
       " (7, 11, 12),\n",
       " (7, 11, 14),\n",
       " (7, 12, 4),\n",
       " (8, 2, 8),\n",
       " (8, 2, 10),\n",
       " (8, 11, 12),\n",
       " (8, 11, 14),\n",
       " (8, 12, 4),\n",
       " (9, 1, 0),\n",
       " (9, 1, 1),\n",
       " (9, 1, 3),\n",
       " (9, 1, 9),\n",
       " (9, 1, 11),\n",
       " (9, 2, 8),\n",
       " (9, 2, 10),\n",
       " (9, 3, 2),\n",
       " (9, 6, 5),\n",
       " (9, 6, 7),\n",
       " (9, 6, 13),\n",
       " (9, 6, 15),\n",
       " (9, 7, 6),\n",
       " (9, 8, 12),\n",
       " (9, 8, 14),\n",
       " (9, 9, 4),\n",
       " (9, 9, 5),\n",
       " (9, 9, 7),\n",
       " (9, 9, 13),\n",
       " (9, 9, 15),\n",
       " (9, 10, 6),\n",
       " (9, 11, 12),\n",
       " (9, 11, 14),\n",
       " (9, 12, 4),\n",
       " (10, 1, 0),\n",
       " (10, 1, 1),\n",
       " (10, 1, 3),\n",
       " (10, 1, 9),\n",
       " (10, 1, 11),\n",
       " (10, 2, 8),\n",
       " (10, 2, 10),\n",
       " (10, 3, 2),\n",
       " (10, 9, 5),\n",
       " (10, 9, 7),\n",
       " (10, 9, 13),\n",
       " (10, 9, 15),\n",
       " (10, 10, 6),\n",
       " (10, 11, 12),\n",
       " (10, 11, 14),\n",
       " (10, 12, 4),\n",
       " (11, 1, 0),\n",
       " (11, 1, 1),\n",
       " (11, 1, 3),\n",
       " (11, 1, 9),\n",
       " (11, 1, 11),\n",
       " (11, 2, 8),\n",
       " (11, 2, 10),\n",
       " (11, 3, 2),\n",
       " (11, 9, 5),\n",
       " (11, 9, 7),\n",
       " (11, 9, 13),\n",
       " (11, 9, 15),\n",
       " (11, 10, 6),\n",
       " (11, 11, 12),\n",
       " (11, 11, 14),\n",
       " (11, 12, 4),\n",
       " (12, 1, 0),\n",
       " (12, 1, 1),\n",
       " (12, 1, 3),\n",
       " (12, 1, 9),\n",
       " (12, 1, 11),\n",
       " (12, 2, 8),\n",
       " (12, 2, 10),\n",
       " (12, 3, 2),\n",
       " (12, 6, 5),\n",
       " (12, 6, 7),\n",
       " (12, 6, 13),\n",
       " (12, 6, 15),\n",
       " (12, 7, 6),\n",
       " (12, 8, 12),\n",
       " (12, 8, 14),\n",
       " (12, 9, 4),\n",
       " (13, 9, 4),\n",
       " (14, 0, 0),\n",
       " (14, 1, 1),\n",
       " (14, 1, 3),\n",
       " (14, 1, 9),\n",
       " (14, 1, 11),\n",
       " (14, 2, 8),\n",
       " (14, 2, 10),\n",
       " (14, 3, 2),\n",
       " (14, 9, 5),\n",
       " (14, 9, 7),\n",
       " (14, 9, 13),\n",
       " (14, 9, 15),\n",
       " (14, 10, 6),\n",
       " (14, 11, 12),\n",
       " (14, 11, 14),\n",
       " (14, 14, 4)}"
      ]
     },
     "execution_count": 69,
     "metadata": {},
     "output_type": "execute_result"
    }
   ],
   "source": [
    "gNFSM_edges_set"
   ]
  },
  {
   "cell_type": "code",
   "execution_count": 70,
   "id": "48aa1a02-9b0b-47ce-9ab5-84d506a04fec",
   "metadata": {
    "tags": []
   },
   "outputs": [],
   "source": [
    "# Next, define phenomenological biological states based on the individual outputs:\n",
    "cancer_state_A = [0.0, 0.0, 1.0]\n",
    "cancer_state_B = [0.0, 0.5, 1.0]\n",
    "cancer_state_C = [0.1, 0.0, 1.0]\n",
    "senescence_phenotype = [0.0, 1.0, 0.0]\n",
    "normal_cell_A = [0.5, 0.5, 0.5]\n",
    "normal_cell_B = [0.5, 0.0, 0.5]\n",
    "indeterminite_cell_state = [0.0, 0.0, 0.0]\n",
    "\n",
    "test_state = cancer_state_C\n",
    "\n",
    "test_inds = bn.output_node_inds\n",
    "\n",
    "# Now, let's find the best match in the state matrix for each of these:\n",
    "match_state, match_error = bsm._find_state_match(bsm._solsM_all[test_inds, :], test_state)\n",
    "\n",
    "cancer_metric = []\n",
    "for state_i in bsm._solsM_all[test_inds, :].T:\n",
    "    cancer_metric.append(np.linalg.norm(state_i - cancer_state_A))\n"
   ]
  },
  {
   "cell_type": "code",
   "execution_count": 71,
   "id": "3e6b8476-9ab6-4bb8-99a1-16719acd71c9",
   "metadata": {
    "tags": []
   },
   "outputs": [
    {
     "data": {
      "image/png": "[encoded data removed]",
      "text/plain": [
       "<Figure size 1000x1000 with 2 Axes>"
      ]
     },
     "metadata": {},
     "output_type": "display_data"
    }
   ],
   "source": [
    "y_input_labels = [bn.nodes_list[ni] for ni in bn.input_node_inds]\n",
    "x_input_labels = [f'I{ni}' for ni, _ in enumerate(sig_test_set)]\n",
    "\n",
    "save_inputs_image = os.path.join(save_path_bool, f'Bool_Inputs_{libg.name}_smach.png')\n",
    "fig, ax = bn.plot_pixel_matrix(sig_test_set.T,\n",
    "                          x_input_labels,\n",
    "                           y_input_labels,\n",
    "                         figsave=save_inputs_image,\n",
    "                         cmap=None,\n",
    "                               figsize=(10,10),\n",
    "                               fontsize=24\n",
    "                         )"
   ]
  },
  {
   "cell_type": "code",
   "execution_count": 75,
   "id": "ce4091a8-1bc7-4240-ac27-06fa826691bb",
   "metadata": {
    "tags": []
   },
   "outputs": [],
   "source": [
    "# Plotting and saving the gNFSM and eNFSM:\n",
    "save_microarray_image = os.path.join(save_path_bool, f'BoolMicroarray_{libg.name}_found.png')\n",
    "fig, ax = bn.plot_sols_array(bsm._solsM_all, \n",
    "                     gene_inds = bn.noninput_node_inds,\n",
    "                          figsave = save_microarray_image,\n",
    "                          cmap =None,\n",
    "                          save_format='png'\n",
    "                          )\n",
    "plt.close(fig)\n",
    "\n",
    "# Save the input states to a csv file:\n",
    "save_inputss_data = os.path.join(save_path_bool, f'BoolInputStates_{libg.name}.csv')\n",
    "# headr = [f'{ni},' for ni in np.asarray(smach.Receptor tyrosine kinases_pnet.nodes_list)[smach._pnet.input_node_inds]]\n",
    "np.savetxt(save_inputss_data, sig_test_set, \n",
    "           delimiter=',', header='')\n",
    "\n",
    "# Save the solution states to a csv file:\n",
    "save_sols_data = os.path.join(save_path_bool, f'BoolSolsStates_{libg.name}.csv')\n",
    "# headr = [f'State {i},' for i in range(smach._solsM_all.shape[1])]\n",
    "np.savetxt(save_sols_data, bsm._solsM_all[bsm._bnet.noninput_node_inds, :], \n",
    "           delimiter=',', header='')\n",
    "\n",
    "if len(bsm._charM_ext):\n",
    "    charM_all_2 = np.hstack((charM_all, bsm._charM_ext))\n",
    "else:\n",
    "    charM_all_2 = charM_all\n",
    "\n",
    "\n",
    "nodes_list = list(GG.nodes())\n",
    "edges_list = list(GG.edges)\n",
    "\n",
    "\n",
    "if mono_edge is True:\n",
    "    mono_lab = 'monoedge'\n",
    "else:\n",
    "    mono_lab = 'multiedge'\n",
    "\n",
    "\n",
    "save_perturbation_net_image = os.path.join(save_path_bool, f'Bool_Pert_Net_{libg.name}_' + mono_lab + fimg)\n",
    "G_pert = bsm.plot_state_perturbation_network(eNFSM_edges_set,\n",
    "                                               charM_all_2,\n",
    "                                               nodes_listo=nodes_list,\n",
    "                                               save_file=save_perturbation_net_image,\n",
    "                                              graph_layout='dot',\n",
    "                                              mono_edge=mono_edge,\n",
    "                                              constraint= True,\n",
    "                                              concentrate = False,\n",
    "                                             node_colors=cancer_metric,\n",
    "                                              cmap_str='RdBu',\n",
    "                                                transp_str='60',\n",
    "                                               rank='same'\n",
    "                                              )\n",
    "\n",
    "\n",
    "save_transition_net_image = os.path.join(save_path_bool, f'Bool_Trans_Net_{libg.name}_' + mono_lab + fimg)\n",
    "G_gv = bsm.plot_state_transition_network(nodes_list,\n",
    "                                                      edges_list,\n",
    "                                                      charM_all_2,\n",
    "                                                      save_file=save_transition_net_image,\n",
    "                                                      graph_layout='dot',\n",
    "                                                      mono_edge=True,\n",
    "                                                      constraint= True,\n",
    "                                                       concentrate = False,\n",
    "                                                      node_colors=cancer_metric,\n",
    "                                                      rank='same',\n",
    "                                                      cmap_str='RdBu',\n",
    "                                                      transp_str='60'\n",
    "                                         \n",
    "                                                      )\n",
    "\n",
    "y_input_labels = [bn.nodes_list[ni] for ni in bn.input_node_inds]\n",
    "x_input_labels = [f'I{ni}' for ni, _ in enumerate(sig_test_set)]\n",
    "\n",
    "save_inputs_image = os.path.join(save_path_bool, f'Bool_Inputs_{libg.name}_smach.png')\n",
    "fig, ax = bn.plot_pixel_matrix(sig_test_set.T,\n",
    "                          x_input_labels,\n",
    "                           y_input_labels,\n",
    "                         figsave=save_inputs_image,\n",
    "                         cmap=None,\n",
    "                               figsize=(20,10),\n",
    "                               fontsize=18\n",
    "                         )\n",
    "\n",
    "plt.close(fig)"
   ]
  },
  {
   "cell_type": "code",
   "execution_count": 113,
   "id": "0b33373c-2a3d-4192-97d2-d93038fcf990",
   "metadata": {
    "tags": []
   },
   "outputs": [],
   "source": [
    "new_edges = []\n",
    "new_nodes = set()\n",
    "for nde_i, nde_j, edge_label in list(GG.edges):\n",
    "    # if nde_i == '1' or nde_i == '2' or nde_i == '3':\n",
    "    if nde_i == '2':\n",
    "        new_nodes.add(nde_i)\n",
    "        new_nodes.add(nde_j)\n",
    "        new_edges.append((nde_i, nde_j, edge_label))"
   ]
  },
  {
   "cell_type": "code",
   "execution_count": 83,
   "id": "8aa8c8f9-93e5-4704-bc2c-698ccc36db05",
   "metadata": {
    "tags": []
   },
   "outputs": [
    {
     "data": {
      "text/plain": [
       "{'1', '10', '11', '12', '2', '3', '9'}"
      ]
     },
     "execution_count": 83,
     "metadata": {},
     "output_type": "execute_result"
    }
   ],
   "source": [
    "new_nodes"
   ]
  },
  {
   "cell_type": "code",
   "execution_count": 95,
   "id": "5bf364d7-c22f-4e68-a7f7-16a4836dd2cf",
   "metadata": {
    "tags": []
   },
   "outputs": [
    {
     "data": {
      "text/plain": [
       "[4, 21, 37]"
      ]
     },
     "execution_count": 95,
     "metadata": {},
     "output_type": "execute_result"
    }
   ],
   "source": [
    "test_inds"
   ]
  },
  {
   "cell_type": "code",
   "execution_count": 96,
   "id": "a98a4767-23aa-4f56-81a7-c4d056b1a6ee",
   "metadata": {
    "tags": []
   },
   "outputs": [
    {
     "data": {
      "text/plain": [
       "array([[0.        , 0.        , 0.        , 0.        , 0.125     ,\n",
       "        0.2       , 0.25      , 0.29166667, 0.3       , 0.375     ,\n",
       "        0.41666667, 0.425     , 0.5       , 0.5       , 0.5       ],\n",
       "       [0.        , 0.        , 0.1       , 0.11111111, 0.        ,\n",
       "        0.2       , 0.5       , 0.5       , 0.5       , 0.5       ,\n",
       "        0.5       , 0.5       , 0.5       , 0.625     , 0.75      ],\n",
       "       [0.        , 1.        , 0.9       , 0.88888889, 1.        ,\n",
       "        0.8       , 0.5       , 0.5       , 0.5       , 0.5       ,\n",
       "        0.5       , 0.5       , 0.5       , 0.375     , 0.25      ]])"
      ]
     },
     "execution_count": 96,
     "metadata": {},
     "output_type": "execute_result"
    }
   ],
   "source": [
    "bsm._solsM_all[test_inds, :]"
   ]
  },
  {
   "cell_type": "code",
   "execution_count": 101,
   "id": "d4cbcc41-df60-4178-af72-fe086dff4cbc",
   "metadata": {
    "tags": []
   },
   "outputs": [],
   "source": []
  },
  {
   "cell_type": "code",
   "execution_count": 108,
   "id": "0c76391e-28df-477d-aaa3-820b0c358d99",
   "metadata": {
    "tags": []
   },
   "outputs": [],
   "source": [
    "\n",
    "nodes_list_2 = [int(ni) for ni in new_nodes]\n",
    "img_pos = 'bc'  # position of the glyph in the node\n",
    "subcluster_font = 'DejaVu Sans Bold'\n",
    "node_shape = 'ellipse'\n",
    "clr_map = 'RdBu'\n",
    "nde_font_color = 'Black'\n",
    "hex_transparency = '60'\n",
    "node_colors = cancer_metric\n",
    "fontsize = 24.0\n",
    "\n",
    "# Try to make a nested graph:\n",
    "G = pgv.AGraph(strict=False,\n",
    "               fontname=subcluster_font,\n",
    "               splines=True,\n",
    "               directed=True,\n",
    "               concentrate=False,\n",
    "               constraint=False,\n",
    "               rank='same',\n",
    "               dpi=300)\n",
    "\n",
    "cmap = colormaps[clr_map]\n",
    "\n",
    "\n",
    "norm = colors.Normalize(vmin=np.min(node_colors),\n",
    "                            vmax=np.max(node_colors))\n",
    "\n",
    "# Add all the nodes:\n",
    "for nde_i in nodes_list_2:\n",
    "    nde_lab = nde_i\n",
    "    nde_index = nodes_list_2.index(nde_i)\n",
    "\n",
    "    nde_color = colors.rgb2hex(cmap(norm(node_colors[nde_i])))\n",
    "\n",
    "    nde_color += hex_transparency  # add some transparancy to the node\n",
    "\n",
    "    char_i = charM_all[nde_i].name # Get the stability characterization for this state\n",
    "\n",
    "    G.add_node(nde_i,\n",
    "                   label=f'State {nde_lab}',\n",
    "                   # fontsize=24.0,\n",
    "                   # font=subcluster_font,\n",
    "                   labelloc='t',\n",
    "                   image=bsm._node_image_dict[char_i],\n",
    "                   imagepos=img_pos,\n",
    "                   shape=node_shape,\n",
    "                   fontcolor=nde_font_color,\n",
    "                   style='filled',\n",
    "                   fillcolor=nde_color)\n",
    "\n",
    "\n",
    "# Add all the edges:\n",
    "for nde_i, nde_j, trans_ij in new_edges:\n",
    "    G.add_edge(nde_i, nde_j, label=trans_ij, fontsize=fontsize)\n",
    "    \n",
    "save_transition_net_image = os.path.join(save_path_bool, f'Bool_Trans_Net_HealCancer_{libg.name}_' + mono_lab + '.svg')\n",
    "\n",
    "G.layout(prog=graph_layout)\n",
    "G.draw(save_transition_net_image)\n"
   ]
  },
  {
   "cell_type": "code",
   "execution_count": 114,
   "id": "23dc56be-d23f-4fda-a4aa-5ac41d5fa9e8",
   "metadata": {
    "tags": []
   },
   "outputs": [],
   "source": [
    "\n",
    "nodes_list_3 = [int(ni) for ni in nodes_list]\n",
    "img_pos = 'bc'  # position of the glyph in the node\n",
    "subcluster_font = 'DejaVu Sans Bold'\n",
    "node_shape = 'ellipse'\n",
    "clr_map = 'RdBu'\n",
    "nde_font_color = 'Black'\n",
    "hex_transparency = '60'\n",
    "node_colors = cancer_metric\n",
    "fontsize = 24.0\n",
    "\n",
    "# Try to make a nested graph:\n",
    "G = pgv.AGraph(strict=False,\n",
    "               fontname=subcluster_font,\n",
    "               splines=True,\n",
    "               directed=True,\n",
    "               concentrate=False,\n",
    "               constraint=False,\n",
    "               rank='same',\n",
    "               dpi=300)\n",
    "\n",
    "cmap = colormaps[clr_map]\n",
    "\n",
    "\n",
    "norm = colors.Normalize(vmin=np.min(node_colors),\n",
    "                            vmax=np.max(node_colors))\n",
    "\n",
    "# Add all the nodes:\n",
    "for nde_i in nodes_list_3:\n",
    "    nde_lab = nde_i\n",
    "    nde_index = nodes_list_3.index(nde_i)\n",
    "\n",
    "    nde_color = colors.rgb2hex(cmap(norm(node_colors[nde_i])))\n",
    "\n",
    "    nde_color += hex_transparency  # add some transparancy to the node\n",
    "\n",
    "    char_i = charM_all[nde_i].name # Get the stability characterization for this state\n",
    "\n",
    "    G.add_node(nde_i,\n",
    "                   label=f'State {nde_lab}',\n",
    "                   # fontsize=24.0,\n",
    "                   # font=subcluster_font,\n",
    "                   labelloc='t',\n",
    "                   image=bsm._node_image_dict[char_i],\n",
    "                   imagepos=img_pos,\n",
    "                   shape=node_shape,\n",
    "                   fontcolor=nde_font_color,\n",
    "                   style='filled',\n",
    "                   fillcolor=nde_color)\n",
    "\n",
    "\n",
    "# Add all the edges:\n",
    "for nde_i, nde_j, trans_ij in edges_list:\n",
    "    G.add_edge(nde_i, nde_j, label=trans_ij, fontsize=fontsize)\n",
    "    \n",
    "save_transition_net_image = os.path.join(save_path_bool, f'Bool_FullTrans_Net_HealCancer_{libg.name}_' + mono_lab + '.png')\n",
    "\n",
    "G.layout(prog=graph_layout)\n",
    "G.draw(save_transition_net_image)"
   ]
  },
  {
   "cell_type": "code",
   "execution_count": 85,
   "id": "c71651dc-8842-4676-9f45-147f4a3918c3",
   "metadata": {
    "tags": []
   },
   "outputs": [
    {
     "data": {
      "text/plain": [
       "array(['DNA_damage', 'EGFR_stimulus', 'FGFR3_stimulus', 'TGFBR_stimulus'],\n",
       "      dtype='<U14')"
      ]
     },
     "execution_count": 85,
     "metadata": {},
     "output_type": "execute_result"
    }
   ],
   "source": [
    "np.asarray(bn.nodes_list)[bn.input_node_inds]"
   ]
  },
  {
   "cell_type": "code",
   "execution_count": 86,
   "id": "3a1719cf-258d-4b77-8783-ec26bd0ec19f",
   "metadata": {
    "tags": []
   },
   "outputs": [
    {
     "data": {
      "text/plain": [
       "((53, 15), (53, 15))"
      ]
     },
     "execution_count": 86,
     "metadata": {},
     "output_type": "execute_result"
    }
   ],
   "source": [
    "bsm._solsM_all.shape, solsM_all.shape"
   ]
  },
  {
   "cell_type": "code",
   "execution_count": 87,
   "id": "2aca7651-6072-4a2a-bce9-9d9caf8392ab",
   "metadata": {
    "tags": []
   },
   "outputs": [
    {
     "data": {
      "text/plain": [
       "array([<EquilibriumType.attractor: 0>, <EquilibriumType.saddle: 3>,\n",
       "       <EquilibriumType.limit_cycle: 2>, <EquilibriumType.limit_cycle: 2>,\n",
       "       <EquilibriumType.limit_cycle: 2>, <EquilibriumType.limit_cycle: 2>,\n",
       "       <EquilibriumType.limit_cycle: 2>, <EquilibriumType.limit_cycle: 2>,\n",
       "       <EquilibriumType.limit_cycle: 2>, <EquilibriumType.limit_cycle: 2>,\n",
       "       <EquilibriumType.limit_cycle: 2>, <EquilibriumType.limit_cycle: 2>,\n",
       "       <EquilibriumType.limit_cycle: 2>, <EquilibriumType.limit_cycle: 2>,\n",
       "       <EquilibriumType.limit_cycle: 2>], dtype=object)"
      ]
     },
     "execution_count": 87,
     "metadata": {},
     "output_type": "execute_result"
    }
   ],
   "source": [
    "charM_all"
   ]
  },
  {
   "cell_type": "code",
   "execution_count": 143,
   "id": "6f28c340-3859-41ad-8e06-bca3a9c7499d",
   "metadata": {
    "tags": []
   },
   "outputs": [
    {
     "data": {
      "text/plain": [
       "(4, 0.024999999999999994)"
      ]
     },
     "execution_count": 143,
     "metadata": {},
     "output_type": "execute_result"
    }
   ],
   "source": [
    "match_state, match_error"
   ]
  },
  {
   "cell_type": "code",
   "execution_count": 144,
   "id": "05547adb-d32d-4310-a583-45f35f62f3f8",
   "metadata": {
    "tags": []
   },
   "outputs": [
    {
     "data": {
      "text/plain": [
       "[0.1, 0.0, 1.0]"
      ]
     },
     "execution_count": 144,
     "metadata": {},
     "output_type": "execute_result"
    }
   ],
   "source": [
    "test_state"
   ]
  },
  {
   "cell_type": "code",
   "execution_count": 134,
   "id": "52af0ff7-a548-41a6-bd2f-d04488bf0fe9",
   "metadata": {
    "tags": []
   },
   "outputs": [],
   "source": [
    "errM = []\n",
    "for soli in bsm._solsM_all.T:\n",
    "    sdiff = soli[test_inds] - test_state\n",
    "    errM.append(np.sqrt(np.sum(sdiff ** 2)))\n",
    "errM = np.asarray(errM)"
   ]
  },
  {
   "cell_type": "code",
   "execution_count": 135,
   "id": "0a52997c-7e93-4f81-a52f-6bb9ca64ee58",
   "metadata": {
    "tags": []
   },
   "outputs": [
    {
     "data": {
      "text/plain": [
       "array([ 0,  6,  7,  8,  9, 10, 11,  5, 12, 13,  3,  2, 14,  1,  4])"
      ]
     },
     "execution_count": 135,
     "metadata": {},
     "output_type": "execute_result"
    }
   ],
   "source": [
    "np.argsort(errM)"
   ]
  },
  {
   "cell_type": "code",
   "execution_count": 140,
   "id": "e037833a-bb68-43a8-adbb-5175fa9172d7",
   "metadata": {
    "tags": []
   },
   "outputs": [
    {
     "data": {
      "text/plain": [
       "array([0.125, 0.   , 1.   ])"
      ]
     },
     "execution_count": 140,
     "metadata": {},
     "output_type": "execute_result"
    }
   ],
   "source": [
    "bsm._solsM_all[test_inds, 4]"
   ]
  },
  {
   "cell_type": "code",
   "execution_count": 48,
   "id": "3cbe7606-bd2c-456e-8275-8e206425ba6a",
   "metadata": {},
   "outputs": [],
   "source": [
    "cc_o = bsm._solsM_all[:, 50]\n",
    "sig_pert = sig_test_set[14]\n",
    "cc_o[bn.input_node_inds] = sig_pert\n",
    "sig_base = sig_test_set[1]"
   ]
  },
  {
   "cell_type": "code",
   "execution_count": 50,
   "id": "8daad50a-1fbd-4268-9c23-9441c13451e4",
   "metadata": {
    "tags": []
   },
   "outputs": [],
   "source": [
    "solsv_held, cc_held, sol_char_held, motif_held = bn.net_sequence_compute(cc_o,\n",
    "                                                      A_bool_f,\n",
    "                                                      n_max_steps=n_max_steps,\n",
    "                                                      constraint_inds=bn.input_node_inds,\n",
    "                                                      constraint_vals=sig_pert.tolist(),\n",
    "                                                      verbose=verbose,\n",
    "                                                      )\n",
    "\n",
    "solsv_new, cc_new, sol_char_new, motif_new = bn.net_sequence_compute(cc_held,\n",
    "                                                      A_bool_f,\n",
    "                                                      n_max_steps=n_max_steps,\n",
    "                                                      constraint_inds=bn.input_node_inds,\n",
    "                                                      constraint_vals=sig_base.tolist(),\n",
    "                                                      verbose=verbose,\n",
    "                                                      )"
   ]
  },
  {
   "cell_type": "code",
   "execution_count": 60,
   "id": "b1e004c1-7cde-4fe0-a334-2b35dad48568",
   "metadata": {
    "tags": []
   },
   "outputs": [],
   "source": [
    "solsv = solsv_new\n",
    "solvr = np.asarray(solsv)[:, bn.noninput_node_inds] # get the reduced array\n",
    "si = solvr[-1, :] # try selecting the last state to check for repetition...\n",
    "matched_inds = [i for i, x in enumerate(solvr.tolist()) if x == si.tolist()] # look for repetition\n",
    "if len(matched_inds) > 1: # if there's more than one incidence of the state\n",
    "    motif_period = matched_inds[-1] - matched_inds[-2]\n"
   ]
  },
  {
   "cell_type": "code",
   "execution_count": 63,
   "id": "a7f20884-7a0b-45c4-b272-031808d01e92",
   "metadata": {
    "tags": []
   },
   "outputs": [
    {
     "data": {
      "text/plain": [
       "93"
      ]
     },
     "execution_count": 63,
     "metadata": {},
     "output_type": "execute_result"
    }
   ],
   "source": [
    "len(solsv)"
   ]
  },
  {
   "cell_type": "code",
   "execution_count": 67,
   "id": "517f4827-ade2-42c4-b766-b929657bde07",
   "metadata": {
    "tags": []
   },
   "outputs": [
    {
     "data": {
      "text/plain": [
       "84"
      ]
     },
     "execution_count": 67,
     "metadata": {},
     "output_type": "execute_result"
    }
   ],
   "source": [
    "matched_inds[-2]"
   ]
  },
  {
   "cell_type": "code",
   "execution_count": 68,
   "id": "bbdb33c1-1223-40a5-924b-25c2377e9045",
   "metadata": {
    "tags": []
   },
   "outputs": [],
   "source": [
    "motif_B = solvr[matched_inds[-2]:matched_inds[-1]]\n",
    "motif_A = solvr[matched_inds[-4]:matched_inds[-3]]"
   ]
  },
  {
   "cell_type": "code",
   "execution_count": 70,
   "id": "0e69e5cb-8859-4b55-9346-8a7119907d6c",
   "metadata": {
    "tags": []
   },
   "outputs": [
    {
     "data": {
      "text/plain": [
       "8"
      ]
     },
     "execution_count": 70,
     "metadata": {},
     "output_type": "execute_result"
    }
   ],
   "source": [
    "len(motif_A)"
   ]
  },
  {
   "cell_type": "code",
   "execution_count": 73,
   "id": "876050ba-e94e-4177-aacc-ea6ac7704fac",
   "metadata": {
    "tags": []
   },
   "outputs": [
    {
     "name": "stdout",
     "output_type": "stream",
     "text": [
      "4.58257569495584\n",
      "4.242640687119285\n",
      "4.123105625617661\n",
      "4.47213595499958\n",
      "5.291502622129181\n",
      "5.477225575051661\n",
      "5.744562646538029\n",
      "5.385164807134504\n"
     ]
    }
   ],
   "source": [
    "for si in motif_A:\n",
    "    print(np.linalg.norm(si))"
   ]
  },
  {
   "cell_type": "code",
   "execution_count": 72,
   "id": "84622083-7c1a-48af-9463-74699f611a58",
   "metadata": {
    "tags": []
   },
   "outputs": [
    {
     "name": "stdout",
     "output_type": "stream",
     "text": [
      "4.58257569495584\n",
      "4.242640687119285\n",
      "4.123105625617661\n",
      "4.47213595499958\n",
      "5.291502622129181\n",
      "5.477225575051661\n",
      "5.744562646538029\n",
      "5.385164807134504\n"
     ]
    }
   ],
   "source": [
    "for si in motif_B:\n",
    "    print(np.linalg.norm(si))"
   ]
  },
  {
   "cell_type": "code",
   "execution_count": 61,
   "id": "3b17d3c8-f523-4a06-91cf-1a53d87e7bd7",
   "metadata": {
    "tags": []
   },
   "outputs": [
    {
     "data": {
      "text/plain": [
       "8"
      ]
     },
     "execution_count": 61,
     "metadata": {},
     "output_type": "execute_result"
    }
   ],
   "source": [
    "motif_period"
   ]
  },
  {
   "cell_type": "code",
   "execution_count": 51,
   "id": "db1101ea-7663-4da5-b450-fa798ad0a612",
   "metadata": {
    "tags": []
   },
   "outputs": [
    {
     "data": {
      "text/plain": [
       "array([0., 1., 0., 0., 0., 1., 1., 0., 1., 0., 0., 0., 0., 0., 0., 1., 0.,\n",
       "       0., 1., 1., 1., 0., 0., 0., 1., 0., 0., 0., 0., 1., 1., 1., 1., 0.,\n",
       "       0., 0., 1., 1., 0., 0., 0., 1., 1., 0., 1., 0., 1., 1., 1., 0., 0.,\n",
       "       0., 1.])"
      ]
     },
     "execution_count": 51,
     "metadata": {},
     "output_type": "execute_result"
    }
   ],
   "source": [
    "cc_new"
   ]
  },
  {
   "cell_type": "code",
   "execution_count": 52,
   "id": "35510667-0195-43b0-9399-bf96873462cd",
   "metadata": {
    "tags": []
   },
   "outputs": [
    {
     "data": {
      "text/plain": [
       "array([0.75 , 0.75 , 0.5  , 0.   , 0.   , 0.875, 0.5  , 1.   , 0.5  ,\n",
       "       0.   , 1.   , 0.5  , 0.125, 0.   , 1.   , 0.625, 0.   , 0.   ,\n",
       "       1.   , 1.   , 1.   , 0.   , 0.5  , 0.5  , 0.875, 0.5  , 0.25 ,\n",
       "       0.125, 0.5  , 1.   , 0.75 , 1.   , 1.   , 0.   , 0.   , 0.5  ,\n",
       "       0.25 , 1.   , 0.125, 0.875, 0.125, 1.   , 0.875, 0.125, 1.   ,\n",
       "       0.   , 1.   , 0.   , 0.75 , 0.   , 0.5  , 0.25 , 1.   ])"
      ]
     },
     "execution_count": 52,
     "metadata": {},
     "output_type": "execute_result"
    }
   ],
   "source": [
    "cc_o"
   ]
  },
  {
   "cell_type": "code",
   "execution_count": 55,
   "id": "e8118d3a-889b-4ffe-bde2-2b1ab63f85e5",
   "metadata": {
    "tags": []
   },
   "outputs": [
    {
     "data": {
      "text/plain": [
       "array([0.   , 0.75 , 0.5  , 1.   , 0.5  , 0.5  , 0.5  , 0.5  , 0.   ,\n",
       "       0.5  , 0.   , 0.   , 0.625, 0.5  , 0.   , 0.   , 0.75 , 0.   ,\n",
       "       0.75 , 0.5  , 0.5  , 0.   , 0.5  , 0.25 , 0.   , 0.5  , 0.75 ,\n",
       "       0.5  , 0.   , 0.   , 0.   , 0.   , 0.5  , 0.75 , 0.25 , 0.   ,\n",
       "       0.   , 0.   , 0.   , 0.   , 0.   , 0.   , 1.   , 0.   , 0.5  ,\n",
       "       0.75 , 0.5  , 0.75 , 0.   ])"
      ]
     },
     "execution_count": 55,
     "metadata": {},
     "output_type": "execute_result"
    }
   ],
   "source": [
    "cc_i[bn.noninput_node_inds]"
   ]
  },
  {
   "cell_type": "code",
   "execution_count": 54,
   "id": "1c1023f5-9c7f-48cc-a80a-8535ce2922f8",
   "metadata": {
    "tags": []
   },
   "outputs": [],
   "source": [
    "new_state, match_error = bsm._find_state_match(bsm._solsM_all[bn.noninput_node_inds, :],\n",
    "                                                                                cc_new[bn.noninput_node_inds])"
   ]
  },
  {
   "cell_type": "code",
   "execution_count": 55,
   "id": "03766301-a403-4da6-9fd1-f439dbd644d9",
   "metadata": {
    "tags": []
   },
   "outputs": [
    {
     "data": {
      "text/plain": [
       "56"
      ]
     },
     "execution_count": 55,
     "metadata": {},
     "output_type": "execute_result"
    }
   ],
   "source": [
    "new_state"
   ]
  },
  {
   "cell_type": "code",
   "execution_count": 56,
   "id": "be8b522b-4bae-4fcb-ab0d-209160b43bc2",
   "metadata": {
    "tags": []
   },
   "outputs": [
    {
     "data": {
      "text/plain": [
       "0.0"
      ]
     },
     "execution_count": 56,
     "metadata": {},
     "output_type": "execute_result"
    }
   ],
   "source": [
    "match_error"
   ]
  },
  {
   "cell_type": "code",
   "execution_count": null,
   "id": "e0727973-fa9b-428a-bb83-55da9c96dbe3",
   "metadata": {},
   "outputs": [],
   "source": []
  }
 ],
 "metadata": {
  "kernelspec": {
   "display_name": "Python [conda env:ionyou_dev] *",
   "language": "python",
   "name": "conda-env-ionyou_dev-py"
  },
  "language_info": {
   "codemirror_mode": {
    "name": "ipython",
    "version": 3
   },
   "file_extension": ".py",
   "mimetype": "text/x-python",
   "name": "python",
   "nbconvert_exporter": "python",
   "pygments_lexer": "ipython3",
   "version": "3.13.2"
  }
 },
 "nbformat": 4,
 "nbformat_minor": 5
}
